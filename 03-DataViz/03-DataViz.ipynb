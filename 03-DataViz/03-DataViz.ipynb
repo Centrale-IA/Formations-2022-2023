{
  "cells": [
    {
      "cell_type": "markdown",
      "metadata": {
        "colab_type": "text",
        "id": "view-in-github"
      },
      "source": [
        "<center><img src=\"img/En-tête.png\" width=\"1000\"></center>"
      ]
    },
    {
      "cell_type": "markdown",
      "metadata": {
        "colab_type": "text",
        "id": "gSTJzhbhCKwU"
      },
      "source": [
        "# I. Matplotlib : Graphiques de Base"
      ]
    },
    {
      "cell_type": "markdown",
      "metadata": {},
      "source": [
        "<center><img src=\"img/matplotlib.jpeg\" width=\"700\"></center>"
      ]
    },
    {
      "cell_type": "code",
      "execution_count": null,
      "metadata": {
        "colab": {},
        "colab_type": "code",
        "id": "B44Ms3yN-ekQ"
      },
      "outputs": [],
      "source": [
        "import numpy as np\n",
        "import matplotlib.pyplot as plt"
      ]
    },
    {
      "cell_type": "markdown",
      "metadata": {
        "colab_type": "text",
        "id": "zKc8md_oEbsC"
      },
      "source": [
        "### Graphiques simples"
      ]
    },
    {
      "cell_type": "markdown",
      "metadata": {},
      "source": [
        "## Courbe"
      ]
    },
    {
      "cell_type": "code",
      "execution_count": null,
      "metadata": {
        "colab": {
          "base_uri": "https://localhost:8080/",
          "height": 265
        },
        "colab_type": "code",
        "id": "59OfExBfCRhb",
        "outputId": "3dabc547-c3c3-4606-f69e-b8ee89d28379"
      },
      "outputs": [],
      "source": [
        "X = np.linspace(0, 2, 10) #utilisez bien linspace du module numpy !!\n",
        "y = X**2\n",
        "\n",
        "plt.plot(X, y)\n",
        "plt.show()"
      ]
    },
    {
      "cell_type": "markdown",
      "metadata": {},
      "source": [
        "## Nuage de points"
      ]
    },
    {
      "cell_type": "code",
      "execution_count": null,
      "metadata": {
        "colab": {
          "base_uri": "https://localhost:8080/",
          "height": 265
        },
        "colab_type": "code",
        "id": "53YYF8uqCpVR",
        "outputId": "0fee6a0c-a34c-42cb-fa65-ef30448e2826"
      },
      "outputs": [],
      "source": [
        "plt.scatter(X, y)\n",
        "plt.show()"
      ]
    },
    {
      "cell_type": "markdown",
      "metadata": {
        "colab_type": "text",
        "id": "p74Gt_7BEe_9"
      },
      "source": [
        "### Styles Graphiques\n",
        "Il existe beaucoup de styles à ajouter aux graphiques. Voici les plus importants à retenir :\n",
        "- **c** : couleur de la ligne\n",
        "- **lw** : epaisseur de la ligne (pour les graphiques plot)\n",
        "- **ls** : style de la ligne (pour les graphiques plot)\n",
        "- **size** : taille du point (pour les graphiques scatter)\n",
        "- **marker** : style de points (pour les graphiques scatter)\n",
        "- **alpha** : transparence du graphique\n",
        "\n"
      ]
    },
    {
      "cell_type": "markdown",
      "metadata": {},
      "source": [
        "<center><img src=\"img/plot.PNG\" width=\"700\"></center>"
      ]
    },
    {
      "cell_type": "code",
      "execution_count": null,
      "metadata": {
        "colab": {
          "base_uri": "https://localhost:8080/",
          "height": 265
        },
        "colab_type": "code",
        "id": "g-ghI-dRFI37",
        "outputId": "49ebda64-9d30-4c90-8697-7b8e17ceb207"
      },
      "outputs": [],
      "source": [
        "plt.plot(X, y, lw=4, ls='--', c='red', alpha=0.5)\n",
        "plt.show()"
      ]
    },
    {
      "cell_type": "markdown",
      "metadata": {},
      "source": [
        "# EXO\n",
        "\n",
        "### Afficher la fonction sinus entre -5 et 5, en orange et très épais"
      ]
    },
    {
      "cell_type": "code",
      "execution_count": null,
      "metadata": {},
      "outputs": [],
      "source": [
        "#EXO"
      ]
    },
    {
      "cell_type": "markdown",
      "metadata": {
        "colab_type": "text",
        "id": "xPhw27RlDD0_"
      },
      "source": [
        "## Plusieurs courbes sur un seul graphique\n",
        "\n",
        "Pour créer des figures proprements, on doit suivre le cycle de vie suivant :\n",
        "1. **plt.figure**(figsize())\n",
        "2. **plt.plot()**\n",
        "3. Extras (titre, axes, legendes)\n",
        "4. **plt.show()**"
      ]
    },
    {
      "cell_type": "code",
      "execution_count": null,
      "metadata": {
        "colab": {
          "base_uri": "https://localhost:8080/",
          "height": 295
        },
        "colab_type": "code",
        "id": "jPN60ClNC0dt",
        "outputId": "8af65fd2-d181-4997-fccc-a57931325dcb"
      },
      "outputs": [],
      "source": [
        "X = np.linspace(0, 2, 10)\n",
        "\n",
        "plt.figure(figsize=(12,5)) # Création d'une figure et on choisit sa taille\n",
        "plt.plot(X, X**2, label='quadratique') # premiere courbe\n",
        "plt.plot(X, X**3, label='cubique') # deuxieme courbe\n",
        "\n",
        "# Extra information\n",
        "plt.title('figure 1') # titre\n",
        "plt.xlabel('axe x') # axes\n",
        "plt.ylabel('axe y') # axes\n",
        "plt.legend() # legend\n",
        "\n",
        "#plt.savefig('figure.png') # sauvegarde la figure dans le repertoire de travail\n",
        "plt.show() # affiche la figure"
      ]
    },
    {
      "cell_type": "markdown",
      "metadata": {},
      "source": [
        "# EXO\n",
        "\n",
        "### Afficher sur un même graphique les fonctions sinus et cosinus entre -10 et 10\n",
        "### - Sinus en orange, très fin et courbe\n",
        "### - Cosinus en vert, très épais et en nuage de point"
      ]
    },
    {
      "cell_type": "code",
      "execution_count": null,
      "metadata": {},
      "outputs": [],
      "source": [
        "# EXO"
      ]
    },
    {
      "cell_type": "markdown",
      "metadata": {
        "colab_type": "text",
        "id": "QcLuPKDOFbQO"
      },
      "source": [
        "## 3. Subplots\n",
        "Les subplots sont un autre éléments a ajouter pour créer plusieurs graphiques sur une meme figure"
      ]
    },
    {
      "cell_type": "markdown",
      "metadata": {},
      "source": [
        "<center><img src=\"img/subplot.PNG\" width=\"700\"></center>"
      ]
    },
    {
      "cell_type": "code",
      "execution_count": null,
      "metadata": {
        "colab": {
          "base_uri": "https://localhost:8080/",
          "height": 282
        },
        "colab_type": "code",
        "id": "GH1S9QxjDM_g",
        "outputId": "5a9422ce-8219-4a73-e402-b84069c4bb3a"
      },
      "outputs": [],
      "source": [
        "x = np.linspace(0,3,10)\n",
        "y = x**2\n",
        "\n",
        "plt.figure(figsize=(12,6))\n",
        "\n",
        "plt.subplot(2, 2, 1)\n",
        "plt.plot(x, y, c='red')\n",
        "\n",
        "plt.subplot(2, 2, 2)\n",
        "plt.plot(x, y, c='blue')\n",
        "\n",
        "plt.subplot(2, 2, 3)\n",
        "plt.plot(x, y, c='green')\n",
        "\n",
        "plt.subplot(2, 2, 4)\n",
        "plt.plot(x, y, c='black')"
      ]
    },
    {
      "cell_type": "markdown",
      "metadata": {
        "colab_type": "text",
        "id": "XiCC3kwGF73I"
      },
      "source": [
        "## 4. Méthode orientée objet"
      ]
    },
    {
      "cell_type": "code",
      "execution_count": null,
      "metadata": {
        "colab": {
          "base_uri": "https://localhost:8080/",
          "height": 265
        },
        "colab_type": "code",
        "id": "7onR68MkFvL4",
        "outputId": "911b8478-0b49-40b1-f346-9dd391635e1c"
      },
      "outputs": [],
      "source": [
        "fig, ax = plt.subplots(2, 1, sharex=True) # partage le meme axe pour les subplots\n",
        "ax[0].plot(x, y)\n",
        "ax[1].plot(x, np.sin(x))\n",
        "plt.show()"
      ]
    },
    {
      "cell_type": "markdown",
      "metadata": {
        "colab_type": "text",
        "id": "UGHMaLFAGMzo"
      },
      "source": [
        "# EXO\n",
        "\n",
        "### Créez une fonction \"graphique\" qui permet de tracer sur une seule et meme figure une série de graphiques issue d'un dictionnaire contenant plusieurs datasets :"
      ]
    },
    {
      "cell_type": "code",
      "execution_count": null,
      "metadata": {
        "colab": {
          "base_uri": "https://localhost:8080/",
          "height": 1000
        },
        "colab_type": "code",
        "id": "nItlbgviGA3F",
        "outputId": "f39ffd03-8d42-49d1-9f30-101773e503c6"
      },
      "outputs": [],
      "source": [
        "def graphique(dataset):\n",
        "  # Votre code ici...\n",
        "  return\n",
        "\n",
        "# Voici le dataset utilisé\n",
        "dataset = {f\"experience{i}\": np.random.randn(100) for i in range(4)}\n",
        "\n",
        "dataset"
      ]
    },
    {
      "cell_type": "markdown",
      "metadata": {},
      "source": [
        "<center><img src=\"img/Résultat_Exo3.PNG\" width=\"700\"></center>"
      ]
    },
    {
      "cell_type": "markdown",
      "metadata": {},
      "source": [
        "# Indices\n",
        "\n",
        "### utilisez les fonctions zip et .keys()"
      ]
    },
    {
      "cell_type": "code",
      "execution_count": null,
      "metadata": {},
      "outputs": [],
      "source": [
        "# permet d'avoir deux compteurs dans une boucle for\n",
        "\n",
        "for k,i in zip([[0,1,2,3],[4,5,6,7]], [\"A\",\"B\"]):\n",
        "    print(k,i)"
      ]
    },
    {
      "cell_type": "markdown",
      "metadata": {},
      "source": [
        " ### data.keys() permet d'avoir la liste des clés (keys)"
      ]
    },
    {
      "cell_type": "code",
      "execution_count": null,
      "metadata": {},
      "outputs": [],
      "source": [
        "dataset.keys()"
      ]
    },
    {
      "cell_type": "code",
      "execution_count": null,
      "metadata": {
        "colab": {},
        "colab_type": "code",
        "id": "cmR2sJwKGe7g"
      },
      "outputs": [],
      "source": [
        "# EXO"
      ]
    },
    {
      "cell_type": "markdown",
      "metadata": {},
      "source": [
        "# II. Graphiques sympas"
      ]
    },
    {
      "cell_type": "markdown",
      "metadata": {},
      "source": [
        "## 1. Classification stylée"
      ]
    },
    {
      "cell_type": "markdown",
      "metadata": {},
      "source": [
        "<center><img src=\"img/classification.PNG\" width=\"700\"></center>"
      ]
    },
    {
      "cell_type": "code",
      "execution_count": null,
      "metadata": {
        "colab": {},
        "colab_type": "code",
        "id": "cwwpHWoEG-0c"
      },
      "outputs": [],
      "source": [
        "from sklearn.datasets import load_iris\n",
        "\n",
        "iris = load_iris()\n",
        "x = iris.data\n",
        "y = iris.target\n",
        "\n",
        "print(f'x contient {x.shape[0]} exemples et {x.shape[1]} variables')\n",
        "print(f'il y a {np.unique(y).size} classes')"
      ]
    },
    {
      "cell_type": "markdown",
      "metadata": {},
      "source": [
        "<center><img src=\"img/dataset_iris.PNG\" width=\"700\"></center>"
      ]
    },
    {
      "cell_type": "code",
      "execution_count": null,
      "metadata": {},
      "outputs": [],
      "source": [
        "plt.scatter(x[:,0], x[:,1], c=y) #longueur des sépales en fonction de la largeur des sépales"
      ]
    },
    {
      "cell_type": "code",
      "execution_count": null,
      "metadata": {},
      "outputs": [],
      "source": [
        "n = x.shape[1] #nombre de caractéristiques\n",
        "plt.figure(figsize=(12, 8))\n",
        "for i in range(n):\n",
        "    plt.subplot(n//2, n//2, i+1)\n",
        "    plt.scatter(x[:, 0], x[:, i], c=y)\n",
        "    plt.xlabel('0')\n",
        "    plt.ylabel(i)\n",
        "    plt.colorbar(ticks=list(np.unique(y)))\n",
        "plt.show()"
      ]
    },
    {
      "cell_type": "markdown",
      "metadata": {},
      "source": [
        "## 2. Graphiques 3D"
      ]
    },
    {
      "cell_type": "code",
      "execution_count": null,
      "metadata": {},
      "outputs": [],
      "source": [
        "from mpl_toolkits.mplot3d import Axes3D"
      ]
    },
    {
      "cell_type": "code",
      "execution_count": null,
      "metadata": {},
      "outputs": [],
      "source": [
        "ax = plt.axes(projection='3d')\n",
        "ax.scatter(x[:, 0], x[:, 1], x[:,2], c=y) #on peut mettre trois dimensions, logique"
      ]
    },
    {
      "cell_type": "code",
      "execution_count": null,
      "metadata": {},
      "outputs": [],
      "source": [
        "f = lambda x, y: np.sin(x) + np.cos(x+y)\n",
        "\n",
        "X = np.linspace(0, 5, 50)\n",
        "Y = np.linspace(0, 5, 50)\n",
        "X, Y = np.meshgrid(X, Y) #crée un volume de largeur X et de hauteur Y\n",
        "Z = f(X, Y)\n",
        "\n",
        "ax = plt.axes(projection='3d')\n",
        "ax.plot_surface(X, Y, Z, cmap='plasma')\n",
        "plt.show()"
      ]
    },
    {
      "cell_type": "markdown",
      "metadata": {},
      "source": [
        "## 3. Histogrammes"
      ]
    },
    {
      "cell_type": "markdown",
      "metadata": {},
      "source": [
        "### bins indique le nombre de classes où ils faut regrouper les données"
      ]
    },
    {
      "cell_type": "code",
      "execution_count": null,
      "metadata": {},
      "outputs": [],
      "source": [
        "x = np.random.randn(1000)\n",
        "\n",
        "plt.figure(figsize=(12, 3))\n",
        "plt.subplot(121)\n",
        "plt.hist(x, bins=10)\n",
        "plt.title('bins=10')\n",
        "plt.subplot(122)\n",
        "plt.hist(x, bins=50)\n",
        "plt.title('bins= 50')\n",
        "plt.show()"
      ]
    },
    {
      "cell_type": "code",
      "execution_count": null,
      "metadata": {},
      "outputs": [],
      "source": [
        "x = iris.data\n",
        "y = iris.target\n",
        "\n",
        "plt.hist(x[:,0], bins=20)\n",
        "plt.hist(x[:,1], bins=20)"
      ]
    },
    {
      "cell_type": "code",
      "execution_count": null,
      "metadata": {},
      "outputs": [],
      "source": [
        "x = iris.data\n",
        "\n",
        "plt.hist2d(x[:,0], x[:,1], cmap='Blues')\n",
        "plt.xlabel('longueur sépal')\n",
        "plt.ylabel('largeur sépal')\n",
        "plt.colorbar()"
      ]
    },
    {
      "cell_type": "markdown",
      "metadata": {},
      "source": [
        "## histogramme d'une image"
      ]
    },
    {
      "cell_type": "markdown",
      "metadata": {},
      "source": [
        "<center><img src=\"img/nuances_couleurs.PNG\" width=\"700\"></center>"
      ]
    },
    {
      "cell_type": "code",
      "execution_count": null,
      "metadata": {},
      "outputs": [],
      "source": [
        "from scipy import misc\n",
        "face = misc.face(gray=True)\n",
        "\n",
        "plt.figure(figsize=(12, 4))\n",
        "plt.subplot(121)\n",
        "plt.imshow(face, cmap='gray')\n",
        "plt.subplot(122)\n",
        "plt.hist(face.ravel(), bins=255) #ravel pour applatir le tableau\n",
        "plt.show()"
      ]
    },
    {
      "cell_type": "markdown",
      "metadata": {},
      "source": [
        "## 4. Contour Plot"
      ]
    },
    {
      "cell_type": "code",
      "execution_count": null,
      "metadata": {},
      "outputs": [],
      "source": [
        "def f(x,y):\n",
        "    return np.sin(x) + np.cos(x+y)*np.cos(x)\n",
        "\n",
        "X = np.linspace(0, 5, 50)\n",
        "Y = np.linspace(0, 5, 50)\n",
        "X, Y = np.meshgrid(X, Y)\n",
        "Z = f(X, Y)\n",
        "\n",
        "plt.contour(X, Y, Z, 20, colors='black')"
      ]
    },
    {
      "cell_type": "code",
      "execution_count": null,
      "metadata": {},
      "outputs": [],
      "source": [
        "plt.contourf(X, Y, Z, 20, cmap='RdGy') # lettre f importante\n",
        "plt.colorbar() #légende"
      ]
    },
    {
      "cell_type": "markdown",
      "metadata": {},
      "source": [
        "# III. Scipy\n",
        "\n",
        "Scipy contient des modules très puissants pour le machine learning, l'anayse de données, les time series, etc.\n",
        "Ce notebook vous montre quelques unes des fonctions les plus utiles"
      ]
    },
    {
      "cell_type": "markdown",
      "metadata": {},
      "source": [
        "<center><img src=\"img/scipy.PNG\" width=\"700\"></center>"
      ]
    },
    {
      "cell_type": "markdown",
      "metadata": {},
      "source": [
        "## 1.Interpolation\n",
        "\n",
        "L'interpolation est le fait d'extrapoler une fonction à partir d'un nuage de points\n",
        "Interpoler un signal est parfois tres utile s'il vous manque des données dans un Dataset. Mais c'est une technique dangereuse, qui peut parfois transformer la réalité des choses !"
      ]
    },
    {
      "cell_type": "markdown",
      "metadata": {},
      "source": [
        "<center><img src=\"img/interpolation.PNG\" width=\"700\"></center>"
      ]
    },
    {
      "cell_type": "code",
      "execution_count": null,
      "metadata": {},
      "outputs": [],
      "source": [
        "x = np.linspace(0, 10, 10)\n",
        "y = x**2\n",
        "plt.scatter(x,y)"
      ]
    },
    {
      "cell_type": "code",
      "execution_count": null,
      "metadata": {},
      "outputs": [],
      "source": [
        "from scipy.interpolate import interp1d"
      ]
    },
    {
      "cell_type": "code",
      "execution_count": null,
      "metadata": {},
      "outputs": [],
      "source": [
        "# création de la fonction interpolation f\n",
        "f = interp1d(x,y, kind='linear')\n",
        "\n",
        "# résultats de la fonction interpolation f sur de nouvelles données\n",
        "new_x = np.linspace(0, 10, 20)\n",
        "result = f(new_x)\n",
        "\n",
        "# visualisation avec matplotlib\n",
        "plt.scatter(x,y)\n",
        "plt.plot(new_x, result, c='r')"
      ]
    },
    {
      "cell_type": "code",
      "execution_count": null,
      "metadata": {},
      "outputs": [],
      "source": [
        "# Création d'un Dataset\n",
        "x = np.linspace(0, 10, 10)\n",
        "y = np.sin(x)\n",
        "plt.scatter(x, y)"
      ]
    },
    {
      "cell_type": "code",
      "execution_count": null,
      "metadata": {},
      "outputs": [],
      "source": [
        "# création de la fonction interpolation f\n",
        "f = interp1d(x,y, kind='linear')\n",
        "\n",
        "# résultats de la fonction interpolation f sur de nouvelles données\n",
        "new_x = np.linspace(0, 10, 20)\n",
        "result = f(new_x)\n",
        "\n",
        "# visualisation avec matplotlib\n",
        "plt.scatter(x,y)\n",
        "plt.plot(new_x, result, c='r')"
      ]
    },
    {
      "cell_type": "markdown",
      "metadata": {},
      "source": [
        "### kind : choix du type d'interpolation"
      ]
    },
    {
      "cell_type": "code",
      "execution_count": null,
      "metadata": {},
      "outputs": [],
      "source": [
        "# création de la fonction interpolation f\n",
        "f = interp1d(x, y, kind='cubic')\n",
        "\n",
        "# résultats de la fonction interpolation f sur de nouvelles données\n",
        "new_x = np.linspace(0, 10, 50)\n",
        "result = f(new_x)\n",
        "\n",
        "# visualisation avec matplotlib\n",
        "plt.scatter(x, y)\n",
        "plt.plot(new_x, result, c='r')"
      ]
    },
    {
      "cell_type": "markdown",
      "metadata": {},
      "source": [
        "<center><img src=\"img/interpolation_attention.PNG\" width=\"700\"></center>"
      ]
    },
    {
      "cell_type": "markdown",
      "metadata": {},
      "source": [
        "# EXO\n",
        "\n",
        "### Tracer les nuages de points de sinus sur [0;4] et cosinus sur [5;10], puis faire une interpolation des points obtenus\n",
        "\n",
        "### Indice : utiliser concatenate"
      ]
    },
    {
      "cell_type": "code",
      "execution_count": null,
      "metadata": {},
      "outputs": [],
      "source": [
        "x1 = np.linspace(0, 4, 10)\n",
        "x2 = np.linspace(5,10,10)\n",
        "y1 = np.sin(x1)\n",
        "y2 = np.cos(x2)\n",
        "\n",
        "plt.scatter(x1,y1)\n",
        "plt.scatter(x2,y2)"
      ]
    },
    {
      "cell_type": "code",
      "execution_count": null,
      "metadata": {},
      "outputs": [],
      "source": [
        "# EXO"
      ]
    },
    {
      "cell_type": "markdown",
      "metadata": {},
      "source": [
        "## 2. Optimisation\n",
        "\n",
        "On trouve beaucoup de fonctions dans le module **optimize**. Certaines permettent de faire des minimisations locales, ou globales, d'autres permette de développer des modeles statistiques avec la méthode des moindres carrés. On trouve également des fonctions pour faire de la programmation linéaire.\n",
        "\n",
        "### curve_fit"
      ]
    },
    {
      "cell_type": "code",
      "execution_count": null,
      "metadata": {},
      "outputs": [],
      "source": [
        "# Création d'un Dataset avec du bruit \"normal\"\n",
        "x = np.linspace(0, 2, 100)\n",
        "y = 1/3*x**3 - 3/5 * x**2 + 2 + np.random.randn(x.shape[0])/20\n",
        "plt.scatter(x, y)"
      ]
    },
    {
      "cell_type": "code",
      "execution_count": null,
      "metadata": {},
      "outputs": [],
      "source": [
        "# Définition d'un modele statistique sensé \"coller\" au dataset ci-dessus\n",
        "def f (x, a, b, c, d):\n",
        "    return a * x**3 + b * x**2 + c * x + d"
      ]
    },
    {
      "cell_type": "code",
      "execution_count": null,
      "metadata": {},
      "outputs": [],
      "source": [
        "from scipy import optimize"
      ]
    },
    {
      "cell_type": "code",
      "execution_count": null,
      "metadata": {},
      "outputs": [],
      "source": [
        "# curve_fit permet de trouver les parametres du modele f grâce à la méthode des moindres carrés\n",
        "params, param_cov = optimize.curve_fit(f, x, y)"
      ]
    },
    {
      "cell_type": "code",
      "execution_count": null,
      "metadata": {},
      "outputs": [],
      "source": [
        "# Visualisation des résultats\n",
        "plt.scatter(x, y)\n",
        "plt.plot(x, f(x, params[0], params[1], params[2], params[3]), c='r', lw=3)"
      ]
    },
    {
      "cell_type": "markdown",
      "metadata": {},
      "source": [
        "## Minimisation 1D\n",
        "la fonction **optimize.minimize** est utile pour trouver un minimum local dans une fonction a N dimensions"
      ]
    },
    {
      "cell_type": "code",
      "execution_count": null,
      "metadata": {},
      "outputs": [],
      "source": [
        "# Définition d'une fonction a 1 Dimension\n",
        "def f (x):\n",
        "    return x**2 + 15*np.sin(x)\n",
        "\n",
        "# Visualisation de la fonction\n",
        "x = np.linspace(-10, 10, 100)\n",
        "plt.plot(x, f(x))"
      ]
    },
    {
      "cell_type": "code",
      "execution_count": null,
      "metadata": {},
      "outputs": [],
      "source": [
        "# Définition d'un point x0 pour l'algorithme de minimisation\n",
        "x0=-5\n",
        "result = optimize.minimize(f, x0=x0) # résultat de la minimisation\n",
        "result"
      ]
    },
    {
      "cell_type": "code",
      "execution_count": null,
      "metadata": {},
      "outputs": [],
      "source": [
        "# Visualisation du résultat\n",
        "\n",
        "result = optimize.minimize(f, x0=x0).x # résultat de la minimisation\n",
        "plt.plot(x, f(x), lw=3, zorder=-1) # Courbe de la fonction\n",
        "plt.scatter(x0, f(x0), s=200, marker='+', c='g', zorder=1, label='initial') # point initial\n",
        "plt.scatter(result, f(result), s=100, c='r', zorder=1, label='final') # point final\n",
        "plt.legend()\n",
        "plt.show()"
      ]
    },
    {
      "cell_type": "markdown",
      "metadata": {},
      "source": [
        "## Minimisation 2D"
      ]
    },
    {
      "cell_type": "code",
      "execution_count": null,
      "metadata": {},
      "outputs": [],
      "source": [
        "# Définition d'une fonction 2D. X est un tableau numpy a 2-Dimension\n",
        "def f (x):\n",
        "    return np.sin(x[0]) + np.cos(x[0]+x[1])*np.cos(x[0])"
      ]
    },
    {
      "cell_type": "code",
      "execution_count": null,
      "metadata": {},
      "outputs": [],
      "source": [
        "# Génération de la fonction sur un espace 2D.\n",
        "x = np.linspace(-3, 3, 100)\n",
        "y = np.linspace(-3, 3, 100)\n",
        "x, y = np.meshgrid(x, y)\n",
        "\n",
        "# Visualisation de la fonction\n",
        "plt.contour(x, y, f(np.array([x, y])), 20)"
      ]
    },
    {
      "cell_type": "code",
      "execution_count": null,
      "metadata": {},
      "outputs": [],
      "source": [
        "# Placement d'un point x0 initial aux coordonées (0,0)\n",
        "x0 = np.zeros((2, 1))\n",
        "\n",
        "# Minimisation de la fonction\n",
        "result = optimize.minimize(f, x0=x0)\n",
        "result"
      ]
    },
    {
      "cell_type": "code",
      "execution_count": null,
      "metadata": {},
      "outputs": [],
      "source": [
        "# Placement d'un point x0 initial aux coordonées (0,0)\n",
        "x0 = np.zeros((2, 1))\n",
        "\n",
        "# Minimisation de la fonction\n",
        "result = optimize.minimize(f, x0=x0).x\n",
        "print('le minimum est aux coordonées', result) # imprimer le résultat\n",
        "\n",
        "# Visualisation du résultat\n",
        "plt.contour(x, y, f(np.array([x, y])), 20) # fonction 2D\n",
        "plt.scatter(x0[0], x0[1], marker='+', c='r', s=100, label='initial') # Point de départ\n",
        "plt.scatter(result[0], result[1], c='g', s=100, label='final') # Point final\n",
        "plt.legend()\n",
        "plt.colorbar()\n",
        "plt.show()"
      ]
    },
    {
      "cell_type": "markdown",
      "metadata": {},
      "source": [
        "## Transformation de Fourier (FFT)\n",
        "La transformation de Fourier est une technique mathématique puissante et normalement complexe a mettre en oeuvre. Heureusement **scipy.fftpack** rend cette technique tres simple a implémenter\n",
        "\n",
        "La transformation de Fourier permet d'analyser les **fréquences** qui composent un signal **périodique** (qui se répete avec le temps). Cette opération produit un graphique que l'on appelle **Spectre**.\n",
        "\n",
        "Une fois le **Spectre** généré, il est possible de filtrer les bruits indésirables, ou bien de sélectionner seulement certaines fréquences, ou d'en atténuer d'autres... les possibilités sont infinies.\n",
        "\n",
        "Dans l'exemple ci-dessous, nous voyons comment filtrer un signal noyé dans du bruit."
      ]
    },
    {
      "cell_type": "markdown",
      "metadata": {},
      "source": [
        "<center><img src=\"img/FFT.PNG\" width=\"1200\"></center>"
      ]
    },
    {
      "cell_type": "code",
      "execution_count": null,
      "metadata": {},
      "outputs": [],
      "source": [
        "# Création d'un signal périodique noyé dans du bruit.\n",
        "x = np.linspace(0, 30, 1000)\n",
        "y = 3*np.sin(x) + 2*np.sin(5*x) + np.sin(10*x) + np.random.random(x.shape[0])*10\n",
        "plt.plot(x, y)"
      ]
    },
    {
      "cell_type": "code",
      "execution_count": null,
      "metadata": {},
      "outputs": [],
      "source": [
        "# On nettoie"
      ]
    },
    {
      "cell_type": "markdown",
      "metadata": {},
      "source": [
        "## image processing\n",
        "\n",
        "**scipy.ndimage** propose de nombreuses actions pour le traitement d'images: convolutions, filtres de Gauss, méthode de mesures, et morphologie.\n",
        "\n",
        "La morphologie est une technique qui permet de transformer une matrice (et donc une image) par le déplacement d'une structure sur chaque pixel de l'image. Lorsqu'un pixel \"blanc\" est visité, la structure peut effectuer une opération:\n",
        "- de dilation: imprime des pixels\n",
        "- d'érosion : efface des pixels\n",
        "\n",
        "Cette technique peut-etre utile pour nettoyer une image des défauts qui peuvent la composer."
      ]
    },
    {
      "cell_type": "code",
      "execution_count": null,
      "metadata": {},
      "outputs": [],
      "source": [
        "from scipy import ndimage"
      ]
    },
    {
      "cell_type": "code",
      "execution_count": null,
      "metadata": {},
      "outputs": [],
      "source": [
        "# Création d'une image avec quelques défauts\n",
        "np.random.seed(0)\n",
        "X = np.zeros((32, 32))\n",
        "X[10:-10, 10:-10] = 1\n",
        "X[np.random.randint(0,32,30),np.random.randint(0,32,30)] = 1 #ajout de défauts aléatoires\n",
        "plt.imshow(X)"
      ]
    },
    {
      "cell_type": "code",
      "execution_count": null,
      "metadata": {},
      "outputs": [],
      "source": [
        "# opération de binary_opening = érosion puis dilation\n",
        "open_X = ndimage.binary_opening(X)\n",
        "plt.imshow(open_X)"
      ]
    },
    {
      "cell_type": "markdown",
      "metadata": {},
      "source": [
        "# Exemple : application à un cas réel"
      ]
    },
    {
      "cell_type": "code",
      "execution_count": null,
      "metadata": {},
      "outputs": [],
      "source": [
        "# importer l'image avec pyplot\n",
        "image = plt.imread('img/bacteria.png')\n",
        "image = image[:,:,0] # réduire l'image en 2D\n",
        "plt.imshow(image, cmap='gray') # afficher l'image\n",
        "image.shape"
      ]
    },
    {
      "cell_type": "code",
      "execution_count": null,
      "metadata": {},
      "outputs": [],
      "source": [
        "#au boulot"
      ]
    },
    {
      "cell_type": "markdown",
      "metadata": {},
      "source": [
        "# IV. Seaborn"
      ]
    },
    {
      "cell_type": "markdown",
      "metadata": {},
      "source": [
        "<center><img src=\"img/seaborn.PNG\" width=\"700\"></center>"
      ]
    },
    {
      "cell_type": "code",
      "execution_count": null,
      "metadata": {},
      "outputs": [],
      "source": [
        "import pandas as pd\n",
        "import seaborn as sns"
      ]
    },
    {
      "cell_type": "markdown",
      "metadata": {},
      "source": [
        "## Pairplot : la vue d'ensemble"
      ]
    },
    {
      "cell_type": "code",
      "execution_count": null,
      "metadata": {},
      "outputs": [],
      "source": [
        "iris = sns.load_dataset('iris')\n",
        "sns.pairplot(iris)"
      ]
    },
    {
      "cell_type": "code",
      "execution_count": null,
      "metadata": {},
      "outputs": [],
      "source": [
        "sns.pairplot(iris, hue='species')"
      ]
    },
    {
      "cell_type": "code",
      "execution_count": null,
      "metadata": {},
      "outputs": [],
      "source": [
        "titanic = sns.load_dataset('titanic')\n",
        "titanic.head()"
      ]
    },
    {
      "cell_type": "code",
      "execution_count": null,
      "metadata": {},
      "outputs": [],
      "source": [
        "sns.pairplot(titanic)"
      ]
    },
    {
      "cell_type": "markdown",
      "metadata": {},
      "source": [
        "### Pas très beau avec le titanic car il y a beaucoup de catégories --> on utilise alors catplot"
      ]
    },
    {
      "cell_type": "code",
      "execution_count": null,
      "metadata": {},
      "outputs": [],
      "source": [
        "sns.catplot(x='pclass',y='age',data=titanic)"
      ]
    },
    {
      "cell_type": "markdown",
      "metadata": {},
      "source": [
        "<center><img src=\"img/structure_seaborn.PNG\" width=\"700\"></center>"
      ]
    },
    {
      "cell_type": "markdown",
      "metadata": {},
      "source": [
        "# EXO\n",
        "\n",
        "### Afficher l'age en fonction de la survie ou non des hommes et des femmes"
      ]
    },
    {
      "cell_type": "code",
      "execution_count": null,
      "metadata": {},
      "outputs": [],
      "source": [
        "# EXO"
      ]
    },
    {
      "cell_type": "code",
      "execution_count": null,
      "metadata": {},
      "outputs": [],
      "source": [
        "sns.distplot(titanic['fare'])"
      ]
    },
    {
      "cell_type": "code",
      "execution_count": null,
      "metadata": {},
      "outputs": [],
      "source": [
        "sns.heatmap(titanic.corr())"
      ]
    },
    {
      "cell_type": "markdown",
      "metadata": {},
      "source": [
        "<center><img src=\"img/matplotlibVSseaborn.jpeg\" width=\"700\"></center>"
      ]
    },
    {
      "cell_type": "code",
      "execution_count": null,
      "metadata": {},
      "outputs": [],
      "source": []
    }
  ],
  "metadata": {
    "colab": {
      "authorship_tag": "ABX9TyO9dycfhdD2rGKyKLGTkAL0",
      "include_colab_link": true,
      "name": "Untitled11.ipynb",
      "provenance": []
    },
    "kernelspec": {
      "display_name": "Python 3.8.8 ('base')",
      "language": "python",
      "name": "python3"
    },
    "language_info": {
      "codemirror_mode": {
        "name": "ipython",
        "version": 3
      },
      "file_extension": ".py",
      "mimetype": "text/x-python",
      "name": "python",
      "nbconvert_exporter": "python",
      "pygments_lexer": "ipython3",
      "version": "3.8.8"
    },
    "vscode": {
      "interpreter": {
        "hash": "ad2bdc8ecc057115af97d19610ffacc2b4e99fae6737bb82f5d7fb13d2f2c186"
      }
    }
  },
  "nbformat": 4,
  "nbformat_minor": 0
}
