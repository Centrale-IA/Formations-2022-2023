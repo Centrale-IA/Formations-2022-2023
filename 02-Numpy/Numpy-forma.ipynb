{
 "cells": [
  {
   "cell_type": "markdown",
   "id": "0dc2e21b",
   "metadata": {},
   "source": [
    "# Numpy: La librairie de calcul optimisé\n",
    "[Numpy](https://numpy.org) (Numerical Python) est la bibliothèque de référence en langage de programmation Python quand il s'agit de devoir effectuer des calculs mathématiques de haut niveau sur un jeu de données, elle présente 6 avantages majeurs :\n",
    "- elle se base sur le concept des tableaux (listes en Python) à la différence qu'ils peuvent être N-dimensionnels, elle manipule donc des matrices\n",
    "- elle comprend quasiment toutes les fonctions mathématiques liées aux concepts nécessaires en Data Science, c'est-à-dire les statistiques, les probabilités, l'algèbre linéaire, l'analyse et l'optimisation\n",
    "- elle s'interface parfaitement avec d'autres librairies Python utiles en Data Science, supporte un grand nombre de hardwares et permet aussi d'effectuer du calcul distribué, du calcul basé sur le GPU (carte graphique) de votre ordinateur\n",
    "- son noyau est codé en C, ce qui permet de profiter de la flexibilité de Python combinée à la vitesse d'un code compilé ; les lignes de code nécessaires et le temps de calcul sont alors très réduits par rapport à une synthaxe Python traditionnelle\n",
    "- sa syntaxe de haut niveau, se rapprochant de l'anglais comme Python, la rend accessible aux programmeurs de tout niveau et expérience\n",
    "- elle est open source, distribuée sous une licence BSD libérale et maintenue publiquement sur [GitHub](https://github.com/numpy/numpy) par une communauté passionnée et très réactive\n",
    "\n",
    "## On va tout d'abord importer la bibliothèque numpy"
   ]
  },
  {
   "cell_type": "code",
   "execution_count": 72,
   "id": "499fd9eb",
   "metadata": {},
   "outputs": [],
   "source": [
    "import numpy as np"
   ]
  },
  {
   "cell_type": "markdown",
   "id": "d659f260",
   "metadata": {},
   "source": [
    "## 1. Générateurs de tableaux ndarray\n",
    "\n",
    "### Les arrays Numpy\n",
    "La classe d'objets que nous allons principalement utiliser est la classe **array** de Numpy, ils correspondent aux matrices N-dimensionnels mentionnés dans l'introduction. Ils ne peuvent seulement contenir des données numériques (integer ou float) mais qui peuvent correspondre à des jeux de données diverses tels que des données tabulaires, des séries temporelles ou des images.\n",
    "\n",
    "- générateur par défaut : ndarray()\n",
    "- générateur 1D : np.linspace et np.arange()\n",
    "- générateur ND : np.zeros(), np.ones(), np.random.randn() (ce sont les plus utiles)\n",
    "\n"
   ]
  },
  {
   "cell_type": "code",
   "execution_count": 89,
   "id": "2fdb4257",
   "metadata": {},
   "outputs": [
    {
     "name": "stdout",
     "output_type": "stream",
     "text": [
      "[1 2 3]\n",
      "\n",
      "\n",
      "[[0. 0. 0.]\n",
      " [0. 0. 0.]]\n",
      "\n",
      "\n",
      "[[1. 1. 1.]\n",
      " [1. 1. 1.]]\n",
      "\n",
      "\n",
      "[[-0.99016014  1.87239408 -0.24107359]\n",
      " [ 0.05334491  1.03081595 -1.27698899]]\n",
      "\n",
      "\n",
      "[[0.29007761 0.61801543 0.4287687 ]\n",
      " [0.13547406 0.29828233 0.56996491]]\n",
      "\n",
      "\n",
      "[[9 1 6]\n",
      " [8 8 3]]\n",
      "\n",
      "\n",
      "[[0.22126269 0.1412639  0.09725993]\n",
      " [0.98404224 0.26034093 0.53702252]]\n",
      "\n",
      "\n"
     ]
    }
   ],
   "source": [
    "# générateur par défaut, qui permet de convertir des listes (ou autres objets) en tableau ndarray\n",
    "A = np.array([1, 2, 3]) \n",
    "print(A)\n",
    "print(\"\\n\")\n",
    "\n",
    "# tableau de 0 aux dimensions 2x3\n",
    "A = np.zeros((2, 3))\n",
    "print(A)\n",
    "print(\"\\n\")\n",
    "\n",
    "# tableau de 1 aux dimensions 2x3\n",
    "A = np.ones((2, 3))\n",
    "print(A)\n",
    "print(\"\\n\")\n",
    "\n",
    "# tableau aléatoire (distribution normale) aux dimensions 2x3\n",
    "A = np.random.randn(2, 3) \n",
    "print(A)\n",
    "print(\"\\n\")\n",
    "\n",
    "# tableau aléatoire (distribution uniforme)\n",
    "A = np.random.rand(2, 3) \n",
    "print(A)\n",
    "print(\"\\n\")\n",
    "\n",
    "# tableau d'entiers aléatoires de 0(inclus) a 10 (exclus) et de dimension 2x3\n",
    "A = np.random.randint(0, 10, [2, 3]) \n",
    "print(A)\n",
    "print(\"\\n\")\n",
    "\n",
    "# Création d'une matrice 2x3 remplie de valeurs au hasard entre 0 et 1 à l'aide du constructeur np.random.random()\n",
    "M = np.random.random(size = (2, 3))\n",
    "print(M)\n",
    "print(\"\\n\")"
   ]
  },
  {
   "cell_type": "code",
   "execution_count": 81,
   "id": "2416ec48",
   "metadata": {},
   "outputs": [
    {
     "name": "stdout",
     "output_type": "stream",
     "text": [
      "[[1. 1. 1.]\n",
      " [1. 1. 1.]]\n",
      "\n",
      "\n",
      "[[ True False False False]\n",
      " [False  True False False]\n",
      " [False False  True False]\n",
      " [False False False  True]]\n",
      "\n",
      "\n"
     ]
    }
   ],
   "source": [
    "# dtype définit le type et la place a occuper sur la mémoire\n",
    "A = np.ones((2, 3), dtype=np.float16) \n",
    "print(A)\n",
    "print(\"\\n\")\n",
    "\n",
    "# crée une matrice identité et convertit les éléments en type booléem avec dtype (on peut également écrire np.bool)\n",
    "B = np.eye(4, dtype=bool) \n",
    "print(B)\n",
    "print(\"\\n\")"
   ]
  },
  {
   "cell_type": "code",
   "execution_count": 88,
   "id": "c02e0f81",
   "metadata": {},
   "outputs": [
    {
     "name": "stdout",
     "output_type": "stream",
     "text": [
      "[ 1.  2.  3.  4.  5.  6.  7.  8.  9. 10.]\n",
      "\n",
      "\n",
      "[0 1 2 3 4 5 6 7 8 9]\n",
      "int64\n"
     ]
    }
   ],
   "source": [
    "# crée un array de 1 à 10 (inclus) avec 10 valeurs (float par défault)\n",
    "A = np.linspace(start = 1,stop= 10, num= 10)  \n",
    "\n",
    "# création d'un array de 0 à 10 (non inclus) avec un pas de 10 (int par défault)\n",
    "B = np.arange(start = 0, stop= 10, step= 1) \n",
    "\n",
    "print (A)\n",
    "print(\"\\n\")\n",
    "print(B)"
   ]
  },
  {
   "cell_type": "markdown",
   "id": "e3d6178b",
   "metadata": {},
   "source": [
    "#### Il est possible de remplir une matrice de dimensions données par des valeurs aux hasards suivants une loi normale à l'aide du constructeur suivant :"
   ]
  },
  {
   "cell_type": "code",
   "execution_count": 91,
   "id": "7d9ca152",
   "metadata": {},
   "outputs": [
    {
     "name": "stdout",
     "output_type": "stream",
     "text": [
      "[[[-0.03636653  0.58891422 -0.77963481  0.47633669]\n",
      "  [ 0.83388012  1.31379269 -0.6017086  -0.5471638 ]\n",
      "  [ 0.60965079  0.75893216 -1.18591918  0.92939943]\n",
      "  [ 0.54695202 -0.86959234  1.22342791 -0.13243036]]\n",
      "\n",
      " [[-0.50489621 -0.4447578   0.3771362  -0.6371065 ]\n",
      "  [-0.10475318 -0.15104201  0.84462603  0.90864239]\n",
      "  [ 0.98242156 -1.18095088  0.0899438  -0.70624493]\n",
      "  [ 0.052225   -1.34157915  1.38294233  0.38691284]]\n",
      "\n",
      " [[-1.33245318  0.50381748  1.03291568 -0.12222363]\n",
      "  [ 1.83263786 -0.06573315  1.86377673 -0.12369081]\n",
      "  [ 1.22039868 -0.00658733  0.59374514 -0.66397933]\n",
      "  [-0.60742275 -1.56437025 -1.73374197 -0.61556428]]\n",
      "\n",
      " [[-0.95463388 -0.24880494 -0.05508758  0.28206989]\n",
      "  [-1.89431807  0.83831078 -0.41631215  1.35692793]\n",
      "  [-1.19765944 -1.67704565  1.01123333 -0.72812799]\n",
      "  [-0.21723523  0.53001676 -1.89595312  0.32468541]]]\n"
     ]
    }
   ],
   "source": [
    "# Matrice 4x4x4 remplie de valeurs suivant une loi normale centrée réduite à l'aide du constructeur np.random.normal()\n",
    "N = np.random.normal(loc = 0.0, scale = 1.0, size = (4, 4, 4))\n",
    "print(N)"
   ]
  },
  {
   "cell_type": "markdown",
   "id": "4e2f1a83",
   "metadata": {},
   "source": [
    "## 2. Attributs importants\n",
    "- size\n",
    "- shape"
   ]
  },
  {
   "cell_type": "code",
   "execution_count": 92,
   "id": "5fdb83eb",
   "metadata": {},
   "outputs": [
    {
     "name": "stdout",
     "output_type": "stream",
     "text": [
      "6\n",
      "\n",
      "\n",
      "(2, 3)\n",
      "\n",
      "\n",
      "<class 'tuple'>\n",
      "\n",
      "\n",
      "2\n"
     ]
    }
   ],
   "source": [
    "A = np.zeros((2, 3)) # création d'un tableau de shape (2, 3)\n",
    "\n",
    "# le nombre d'éléments dans le tableau A\n",
    "print(A.size) \n",
    "print(\"\\n\")\n",
    "\n",
    "# les dimensions du tableau A (sous forme de Tuple)\n",
    "print(A.shape) \n",
    "print(\"\\n\")\n",
    "\n",
    "\n",
    "# voici la preuve que la shape est un tuple\n",
    "print(type(A.shape)) \n",
    "print(\"\\n\")\n",
    "\n",
    "# le nombre d'éléments dans la premiere dimension de A\n",
    "print(A.shape[0]) "
   ]
  },
  {
   "cell_type": "markdown",
   "id": "07a99492",
   "metadata": {},
   "source": [
    "## 3. Méthodes assez importantes\n",
    "\n",
    "- **reshape()**  pour redimensionner un tableau\n",
    "- **ravel()**  pour applatir un tableau (qu'il ne fasse plus qu'une dimension)\n",
    "- **concatenate()**  assemble 2 tableaux ensemble selon un axes (existe aussi en hstack et vstack)"
   ]
  },
  {
   "cell_type": "code",
   "execution_count": 102,
   "id": "5258be37",
   "metadata": {},
   "outputs": [
    {
     "name": "stdout",
     "output_type": "stream",
     "text": [
      "[[1. 1. 1.]\n",
      " [1. 1. 1.]]\n",
      "\n",
      "\n",
      "[[1. 1.]\n",
      " [1. 1.]\n",
      " [1. 1.]]\n",
      "\n",
      "\n",
      "[1. 1. 1. 1. 1. 1.]\n",
      "\n",
      "\n"
     ]
    }
   ],
   "source": [
    "# création d'un tableau de zéros de shape (2, 3)\n",
    "A = np.ones((2, 3))\n",
    "print(A)\n",
    "print(\"\\n\")\n",
    "\n",
    "# redimensionne le tableau A (3 lignes, 2 colonnes)\n",
    "A = A.reshape((3, 2)) \n",
    "print(A)\n",
    "print(\"\\n\")\n",
    "\n",
    "# Aplatit le tableau A (une seule dimension)\n",
    "A.ravel() \n",
    "print(A.ravel())\n",
    "print(\"\\n\")\n"
   ]
  },
  {
   "cell_type": "markdown",
   "id": "4a68afce",
   "metadata": {},
   "source": [
    "### Concaténation d'arrays Numpy\n",
    "La concaténation d'arrays permet de fusionner plusieurs matrices pour n'en former qu'une seule à l'aide de la méthode np.concatenate(), les arguments à spécifier étant une liste des matrices à fusionner ainsi que la dimension sur laquelle la fusion doit s'effectuer (axe des lignes ou des colonnes) à l'aide d'**axis**. Il faut évidemment que les arrays soient de même taille sur cette dimension.\n",
    "\n",
    "Illustrons encore une fois à l'aide de cet excellent exemple provenant du cours *NumPy pour la Data Science - Manipulation d'arrays Numpy* de [DataScientest](https://datascientest.com) :\n",
    "\n",
    "![Image DataScientest concatenation arrays numpy](img/concatenation_arrays_numpy-Copy1.png)"
   ]
  },
  {
   "cell_type": "code",
   "execution_count": 154,
   "id": "251fdc76",
   "metadata": {},
   "outputs": [
    {
     "data": {
      "text/plain": [
       "array([[0., 0., 0.],\n",
       "       [0., 0., 0.],\n",
       "       [1., 1., 1.],\n",
       "       [1., 1., 1.]])"
      ]
     },
     "execution_count": 154,
     "metadata": {},
     "output_type": "execute_result"
    }
   ],
   "source": [
    "A = np.zeros((2, 3)) # création d'un tableau de shape (2, 3)\n",
    "B = np.ones((2, 3)) # création d'un tableau de shape (2, 3)\n",
    "\n",
    "# axe 0 : équivalent de np.vstack((A, B))\n",
    "np.concatenate((A, B), axis=0) "
   ]
  },
  {
   "cell_type": "code",
   "execution_count": 106,
   "id": "92138417",
   "metadata": {
    "scrolled": true
   },
   "outputs": [
    {
     "data": {
      "text/plain": [
       "array([[0., 0., 0., 1., 1., 1.],\n",
       "       [0., 0., 0., 1., 1., 1.]])"
      ]
     },
     "execution_count": 106,
     "metadata": {},
     "output_type": "execute_result"
    }
   ],
   "source": [
    "# axe 1 : équivalent de np.hstack((A, B))\n",
    "np.concatenate((A, B), axis=1) "
   ]
  },
  {
   "cell_type": "markdown",
   "id": "e4745c7d",
   "metadata": {},
   "source": [
    "Lorsque 2 matrices sont fusionnées, c'est le type le plus général qui prend le dessus, c'est-à-dire le type **float** dans ce cas précis."
   ]
  },
  {
   "cell_type": "markdown",
   "id": "f338b1eb",
   "metadata": {},
   "source": [
    "## 4. Exercice et Solutions"
   ]
  },
  {
   "cell_type": "code",
   "execution_count": 19,
   "id": "67b40638",
   "metadata": {},
   "outputs": [],
   "source": [
    "# Faites une fonction qui retourne une matrice aléatoire de dimension (m,n) mais avec des 1 sur la colonne de droite\n",
    "#Utilisez la fonction np.concatenate\n",
    "\n",
    "def initialisation(m, n):\n",
    "    # m : nombre de lignes\n",
    "    # n : nombre de colonnes\n",
    "    # retourne une matrice aléatoire (m, n+1)\n",
    "    # avec une colonne biais (remplie de \"1\") tout a droite\n",
    "\n",
    "    return X"
   ]
  },
  {
   "cell_type": "markdown",
   "id": "873f0523",
   "metadata": {},
   "source": [
    "#### Solution ci-dessous"
   ]
  },
  {
   "cell_type": "code",
   "execution_count": 20,
   "id": "17bc943d",
   "metadata": {},
   "outputs": [
    {
     "data": {
      "text/plain": [
       "array([[-0.86320364, -0.50173779,  0.46471593, -1.31139984,  1.        ],\n",
       "       [ 0.88115359,  0.36996714,  2.89329165,  0.41253248,  1.        ],\n",
       "       [ 0.08360925, -0.40875087,  1.08678488, -1.02943195,  1.        ]])"
      ]
     },
     "execution_count": 20,
     "metadata": {},
     "output_type": "execute_result"
    }
   ],
   "source": [
    "# SOLUTION\n",
    "def initialisation(m, n):\n",
    "    # m : nombre de lignes\n",
    "    # n : nombre de colonnes\n",
    "    # retourne une matrice aléatoire (m, n+1)\n",
    "    # avec une colonne biais (remplie de \"1\") tout a droite\n",
    "    X = np.random.randn(m, n-1)\n",
    "    X = np.concatenate((X, np.ones((X.shape[0], 1))), axis = 1)\n",
    "\n",
    "    return X\n",
    "\n",
    "initialisation(3, 4)"
   ]
  },
  {
   "cell_type": "markdown",
   "id": "7cc5fcf5",
   "metadata": {},
   "source": [
    "## Indexing et Slicing\n",
    "\n",
    "#### Indexation d'un array Numpy\n",
    "Comme les arrays Numpy sont multidimensionnels au contraire des listes, il faut indiquer l'indice que nous voulons accéder sur chaque dimension :\n",
    "![Image DataScientest indexation Numpy](img/image_indexation_numpy-Copy1.png)\n"
   ]
  },
  {
   "cell_type": "code",
   "execution_count": 21,
   "id": "0181f44a",
   "metadata": {},
   "outputs": [
    {
     "name": "stdout",
     "output_type": "stream",
     "text": [
      "[[1 2 3]\n",
      " [4 5 6]]\n"
     ]
    }
   ],
   "source": [
    "A = np.array([[1, 2, 3], [4, 5, 6]])\n",
    "print(A)"
   ]
  },
  {
   "cell_type": "code",
   "execution_count": 22,
   "id": "c2802e75",
   "metadata": {},
   "outputs": [
    {
     "data": {
      "text/plain": [
       "2"
      ]
     },
     "execution_count": 22,
     "metadata": {},
     "output_type": "execute_result"
    }
   ],
   "source": [
    "# Pour acceder a la ligne 0, colonne 1\n",
    "A[0, 1] "
   ]
  },
  {
   "cell_type": "markdown",
   "id": "2eef4227",
   "metadata": {},
   "source": [
    "Il est possible de découper un array en le sliçant sur chaque dimension :\n",
    "\n",
    "![Image DataScientest slicing Numpy](img/image_slicing_numpy-Copy1.png)\n",
    "![Image Data Scientest slicing Numpy ligne](img/image_slicing_numpy_ligne-Copy1.png)"
   ]
  },
  {
   "cell_type": "code",
   "execution_count": 23,
   "id": "c7efe228",
   "metadata": {},
   "outputs": [
    {
     "data": {
      "text/plain": [
       "array([[1, 2],\n",
       "       [4, 5]])"
      ]
     },
     "execution_count": 23,
     "metadata": {},
     "output_type": "execute_result"
    }
   ],
   "source": [
    "# Pour selectionner les blocs de la ligne (0-1) colonne (0-1)\n",
    "A[0:2, 0:2] # 2 pas inclus ici"
   ]
  },
  {
   "cell_type": "code",
   "execution_count": 24,
   "id": "51b3ae23",
   "metadata": {},
   "outputs": [
    {
     "name": "stdout",
     "output_type": "stream",
     "text": [
      "[[10 10  3]\n",
      " [10 10  6]]\n"
     ]
    }
   ],
   "source": [
    "A[0:2, 0:2] = 10\n",
    "print(A)"
   ]
  },
  {
   "cell_type": "markdown",
   "id": "1d091d76",
   "metadata": {},
   "source": [
    "### Boolean Indexing"
   ]
  },
  {
   "cell_type": "code",
   "execution_count": 46,
   "id": "048a9566",
   "metadata": {},
   "outputs": [
    {
     "name": "stdout",
     "output_type": "stream",
     "text": [
      "[[ True  True  True]\n",
      " [ True False False]]\n",
      "[1 2 3 4]\n",
      "[[4 4 4]\n",
      " [4 5 6]]\n"
     ]
    }
   ],
   "source": [
    "A = np.array([[1, 2, 3], [4, 5, 6]])\n",
    " \n",
    "print(A<5) # masque booléen\n",
    " \n",
    "print(A[A < 5]) # sous-ensemble filtré par le masque booléen\n",
    " \n",
    "A[A<5] = 4 # convertit les valeurs sélectionnées.\n",
    "print(A)"
   ]
  },
  {
   "cell_type": "markdown",
   "id": "7058f1bf",
   "metadata": {},
   "source": [
    "### Indexation conditionnelle d'un array Numpy\n",
    "Ceci permet d'accéder et modifier facilement des éléments qui respectent une condition spécifique."
   ]
  },
  {
   "cell_type": "code",
   "execution_count": 47,
   "id": "ff83c226",
   "metadata": {},
   "outputs": [
    {
     "name": "stdout",
     "output_type": "stream",
     "text": [
      "[[ 0  0 30]\n",
      " [ 0  3  0]\n",
      " [ 5  0 10]]\n"
     ]
    }
   ],
   "source": [
    "# Création d'un array de dimension 3x3\n",
    "M = np.array([[-1, 0, 30],\n",
    "              [-2, 3, -5],\n",
    "              [5, -5, 10]])\n",
    "\n",
    "# Assignation à tous les éléments négatifs la valeur 0\n",
    "M[M < 0] = 0\n",
    "\n",
    "# Affichage de la matrice modifiée\n",
    "print(M)"
   ]
  },
  {
   "cell_type": "code",
   "execution_count": 48,
   "id": "8cbb89a2",
   "metadata": {},
   "outputs": [
    {
     "name": "stdout",
     "output_type": "stream",
     "text": [
      "[['ZERO' 'ZERO' 'autre']\n",
      " ['ZERO' 'autre' 'ZERO']\n",
      " ['autre' 'ZERO' 'autre']]\n"
     ]
    }
   ],
   "source": [
    "# Mise en valeur de tous les éléments dont la valeur est égale à 0\n",
    "print(np.where(M == 0, \"ZERO\", \"autre\"))"
   ]
  },
  {
   "cell_type": "markdown",
   "id": "d90860d7",
   "metadata": {},
   "source": [
    "Il est également possible d'indexer un array à l'aide d'une condition évaluée sur un autre array :"
   ]
  },
  {
   "cell_type": "code",
   "execution_count": 49,
   "id": "6832fa84",
   "metadata": {},
   "outputs": [
    {
     "name": "stdout",
     "output_type": "stream",
     "text": [
      "[ 3 -1 -1 -1  6 -1  2  9]\n"
     ]
    }
   ],
   "source": [
    "# Création de 2 arrays à 8 éléments\n",
    "M1 = np.array([3, -7, -10, 3, 6, 5, 2, 9])\n",
    "M2 = np.array([0, 1, 1, 1, 0, 1, 0, 0])\n",
    "\n",
    "# Assignation de la valeur -1 aux éléments de M1 pour lesquels la valeur de M2 à l'indice correspondant vaut 1\n",
    "M1[M2 == 1] = -1\n",
    "\n",
    "# Affichage de M1\n",
    "print(M1)"
   ]
  },
  {
   "cell_type": "code",
   "execution_count": 50,
   "id": "f881f6ff",
   "metadata": {},
   "outputs": [
    {
     "name": "stdout",
     "output_type": "stream",
     "text": [
      "[3 6 2 9]\n"
     ]
    }
   ],
   "source": [
    "# Affichage des éléments de M1 pour lesquels la valeur de M2 à l'indice correspondant vaut 0\n",
    "print(M1[M2 == 0])"
   ]
  },
  {
   "cell_type": "code",
   "execution_count": null,
   "id": "462a99e5",
   "metadata": {},
   "outputs": [],
   "source": []
  },
  {
   "cell_type": "markdown",
   "id": "9bb1425b",
   "metadata": {},
   "source": [
    "# Mathématiques avec numpy\n"
   ]
  },
  {
   "cell_type": "markdown",
   "id": "980b0d77",
   "metadata": {},
   "source": [
    "## 1. Méthodes de bases (les plus utiles) de la classe ndarray\n",
    "\n",
    "### Opérations mathématiques de base\n",
    "Comme dit précédemment, l'intérêt de Numpy est de pouvoir effectuer des calculs sur de grandes matrices en un temps très réduit et ce, quelque soient leurs dimensions. La liste complète se trouve sur [ce lien](https://numpy.org/doc/stable/reference/routines.math.html)."
   ]
  },
  {
   "cell_type": "code",
   "execution_count": 110,
   "id": "fd44829f",
   "metadata": {},
   "outputs": [
    {
     "name": "stdout",
     "output_type": "stream",
     "text": [
      "somme : 21\n",
      "\n",
      "\n",
      "somme des colonnes :  [5 7 9]\n",
      "\n",
      "\n",
      "somme des lignes: [ 6 15]\n",
      "\n",
      "\n",
      "somme cumulée: [[1 2 3]\n",
      " [5 7 9]]\n",
      "\n",
      "\n",
      "produit: 720\n",
      "\n",
      "\n",
      "produit cumulé: [  1   2   6  24 120 720]\n",
      "\n",
      "\n",
      "min du tableau: 1\n",
      "\n",
      "\n",
      "max du tableau 6\n",
      "\n",
      "\n",
      "moyenne de A: 3.5\n",
      "\n",
      "\n",
      "écart type de A: 1.707825127659933\n",
      "\n",
      "\n",
      "Variance de A: 2.9166666666666665\n",
      "\n",
      "\n"
     ]
    }
   ],
   "source": [
    "A = np.array([[1, 2, 3], [4, 5, 6]])\n",
    "\n",
    "print(\"somme :\", A.sum()) # effectue la somme de tous les ésléments du tableau\n",
    "print(\"\\n\")\n",
    "print(\"somme des colonnes : \",A.sum(axis=0)) # effectue la somme des colonnes (somme sur éléments des les lignes)\n",
    "print(\"\\n\")\n",
    "print(\"somme des lignes:\",A.sum(axis=1)) # effectue la somme des lignes (somme sur les éléments des colonnes)\n",
    "print(\"\\n\")\n",
    "print(\"somme cumulée:\",A.cumsum(axis=0)) # effectue la somme cumulée\n",
    "print(\"\\n\")\n",
    " \n",
    "print(\"produit:\",A.prod()) # effectue le produit\n",
    "print(\"\\n\")\n",
    "print(\"produit cumulé:\",A.cumprod()) # effectue le produit cumulé\n",
    "print(\"\\n\")\n",
    " \n",
    "print(\"min du tableau:\",A.min()) # trouve le minimum du tableau\n",
    "print(\"\\n\")\n",
    "print(\"max du tableau\",A.max()) # trouve le maximum du tableau\n",
    "print(\"\\n\")\n",
    " \n",
    "print(\"moyenne de A:\",A.mean()) # calcule la moyenne\n",
    "print(\"\\n\")\n",
    "print(\"écart type de A:\",A.std()) # calcule l'ecart type,\n",
    "print(\"\\n\")\n",
    "print(\"Variance de A:\",A.var()) # calcule la variance\n",
    "print(\"\\n\")"
   ]
  },
  {
   "cell_type": "markdown",
   "id": "deb44584",
   "metadata": {},
   "source": [
    "### Opérations arithmétiques de base\n",
    "Une opération arithmétique de base (+, -, \\*, /, \\*\\*, //, %) effectuée entre 2 arrays Numpy s'appliquera entre chaque paire d'éléments.\n",
    "\n",
    "Pour que ces opérations puissent être effectuées, il est nécessaire que les 2 matrices aient les mêmes dimensions !"
   ]
  },
  {
   "cell_type": "code",
   "execution_count": 113,
   "id": "91f9f5da",
   "metadata": {},
   "outputs": [
    {
     "name": "stdout",
     "output_type": "stream",
     "text": [
      "addidition: [[ 8  5 25]\n",
      " [16 10 50]]\n",
      "\n",
      "\n",
      "soustraction: [[ 6  1 17]\n",
      " [12  2 34]]\n",
      "\n",
      "\n",
      "mutliplication: [[  7   6  84]\n",
      " [ 28  24 336]]\n",
      "\n",
      "\n",
      "division: [[7.   1.5  5.25]\n",
      " [7.   1.5  5.25]]\n",
      "\n",
      "\n",
      "M1 puissance M2: [[            7             9        194481]\n",
      " [          196          1296 9682651996416]]\n",
      "\n",
      "\n",
      "division entière de M1 par M2: [[7 1 5]\n",
      " [7 1 5]]\n",
      "\n",
      "\n",
      "reste de la divions de M1 par M2: [[0 1 1]\n",
      " [0 2 2]]\n"
     ]
    }
   ],
   "source": [
    "M1 = np.array([[7, 3, 21],\n",
    "               [14, 6, 42]])\n",
    "\n",
    "M2 = np.array([[1, 2, 4],\n",
    "               [2, 4, 8]])\n",
    "\n",
    "# Addition entre les 2 arrays\n",
    "print(\"addidition:\",M1 + M2)\n",
    "print(\"\\n\")\n",
    "\n",
    "# Soustraction entre les 2 arrays\n",
    "print(\"soustraction:\",M1 - M2)\n",
    "print(\"\\n\")\n",
    "\n",
    "# Multiplication entre les 2 arrays (ce n'est pas un produit matriciel!!!)\n",
    "print(\"mutliplication:\",M1 * M2)\n",
    "print(\"\\n\")\n",
    "\n",
    "# Division entre les 2 arrays\n",
    "print(\"division:\",M1 / M2)\n",
    "print(\"\\n\")\n",
    "\n",
    "# M1 à la puissance M2\n",
    "print(\"M1 puissance M2:\",M1 ** M2)\n",
    "print(\"\\n\")\n",
    "\n",
    "# Dvision entière entre les 2 arrays\n",
    "print(\"division entière de M1 par M2:\",M1 // M2)\n",
    "print(\"\\n\")\n",
    "\n",
    "# Modulo (reste de la division entière) entre les 2 arrays\n",
    "print(\"reste de la divions de M1 par M2:\",M1 % M2)\n"
   ]
  },
  {
   "cell_type": "markdown",
   "id": "390c03b7",
   "metadata": {},
   "source": [
    "Pour effectuer \n",
    " un produit matriciel entre 2 ou plusieurs matrices, il faut plutôt utiliser la méthode **.dot()** des arrays Numpy.\n",
    "\n",
    "Rappel : Il faut que le nombre de colonnes de la première matrice corresponde au nombre de lignes de la deuxième pour que cette opération puisse fonctionner, la matrice résultante aura pour dimension le nombre de lignes de la première et le nombre de colonnes de la deuxième."
   ]
  },
  {
   "cell_type": "markdown",
   "id": "d6f15fb2",
   "metadata": {},
   "source": [
    "### Broadcasting (diffusion) entre une valeur constante et une matrice\n",
    "Mathématiquement, une opération arithmétique telle que l'addition entre une valeur constante et une matrice n'a pas de sens. Numpy va ainsi diffuser la constante de manière à ce que l'opération puisse se faire entre elle et chaque terme de la matrice :\n",
    "\n",
    "$$ M = \\begin{pmatrix} 1 & 2 & 3\\\\ \\ 4 & 5 & 6 \\end{pmatrix}, c = 10 $$\n",
    "\n",
    "$$ M + c = \\begin{pmatrix} 1 + 10 & 2 + 10 & 3 + 10\\\\ \\ 4 + 10 & 5 + 10 & 6 + 10\\end{pmatrix}\n",
    "= \\begin{pmatrix} 11 & 12 & 13\\\\ \\ 14 & 15 & 16 \\end{pmatrix} $$\n",
    "\n",
    "On en déduit qu'au niveau de la librairie Numpy, la constante **c** s'est en réalité transformée de la manière suivante :\n",
    "$$ c \\xrightarrow{\\text{broadcasting}} C = \\begin{pmatrix} c & c & c\\\\ \\ c & c & c \\end{pmatrix} $$"
   ]
  },
  {
   "cell_type": "code",
   "execution_count": 57,
   "id": "f36440a3",
   "metadata": {},
   "outputs": [
    {
     "name": "stdout",
     "output_type": "stream",
     "text": [
      "[[11 12 13]\n",
      " [14 15 16]]\n"
     ]
    }
   ],
   "source": [
    "M = np.array([[1, 2, 3],\n",
    "              [4, 5, 6]])\n",
    "c = 10\n",
    "\n",
    "# Broadcasting de c pour pouvoir effectuer M + c\n",
    "print(M + c)"
   ]
  },
  {
   "cell_type": "markdown",
   "id": "f0c08e29",
   "metadata": {},
   "source": [
    "### Broadcasting (diffusion) entre un vecteur et une matrice\n",
    "Le broadcasting entre un vecteur et une matrice est également possible. Il faut toutefois que pour chaque dimension du vecteur, celui-ci respecte une des conditions suivantes afin de pouvoir être broadcasté en dimensions compatibles avec la matrice:\n",
    "- les dimensions sont égales\n",
    "- une des dimensions vaut 1\n",
    "\n",
    "Ainsi, l'opération de soustraction peut être effectué entre la matrice et le vecteur suivants :\n",
    "$$ M_1 = \\begin{pmatrix} 1 & 2 & 3\\\\ \\ 4 & 5 & 6 \\end{pmatrix} $$\n",
    "$$ \\overrightarrow{v_1} = \\begin{pmatrix} 5\\\\ \\ 10 \\end{pmatrix} $$\n",
    "\n",
    "$$ M_1 - \\overrightarrow{v_1} = \\begin{pmatrix} 1 - 5 & 2 - 5 & 3 - 5\\\\ \\ 4 - 10 & 5 - 10 & 6 - 10\\end{pmatrix} \n",
    "= \\begin{pmatrix} -4 & -3 & -2\\\\ \\ -6 & -5 & -4 \\end{pmatrix} $$\n",
    "\n",
    "De même qu'entre la matrice et le vecteur suivants :\n",
    "$$ M_2 = \\begin{pmatrix} 1 & 2\\\\ \\ 3 & 4\\\\ \\ 5 & 6 \\end{pmatrix} $$\n",
    "$$ \\overrightarrow{v_2} = \\begin{pmatrix} 10 & 20 \\end{pmatrix} $$\n",
    "\n",
    "$$ M_2 - \\overrightarrow{v_2} = \\begin{pmatrix} 1 - 10 & 2 - 20\\\\ \\ 3 - 10 & 4 - 20\\\\ \\ 5 - 10 & 6 - 20\\end{pmatrix} \n",
    "= \\begin{pmatrix} -9 & -18\\\\ \\ -7 & -16\\\\ \\ -5 & -14 \\end{pmatrix} $$\n",
    "\n",
    "A contrario, n'importe quel des opérations arithmétiques de base citées précédemment ne peut pas être effectué car le vecteur suivant ne respecte pas les bonnes conditions :\n",
    "$$ M_3 = \\begin{pmatrix} 1 & 2 & 3 \\\\ \\ 4 & 5 & 6\\\\ \\ 7 & 8 & 9 \\end{pmatrix} $$\n",
    "$$ \\overrightarrow{v_3} = \\begin{pmatrix} 5\\\\ \\ 10\\\\ \\ 15\\\\ 20 \\end{pmatrix} $$"
   ]
  },
  {
   "cell_type": "code",
   "execution_count": 114,
   "id": "2f8bfc67",
   "metadata": {},
   "outputs": [
    {
     "name": "stdout",
     "output_type": "stream",
     "text": [
      "[[ -9 -18]\n",
      " [ -7 -16]\n",
      " [ -5 -14]]\n"
     ]
    }
   ],
   "source": [
    "M = np.array([[1, 2],\n",
    "              [3, 4],\n",
    "              [5, 6]])\n",
    "v = [10, 20]\n",
    "\n",
    "# Broadcasting de v pour pouvoir effectuer M - v\n",
    "print(M - v)"
   ]
  },
  {
   "cell_type": "markdown",
   "id": "c6f377ad",
   "metadata": {},
   "source": [
    "### Temps d'execution\n",
    "\n",
    "Comparons les temps d'exécution de 2 calculs sur un array comprenant 3 millions de valeurs afin de réellement comprendre pourquoi on parle de \"calcul optimisé\" dans le cas de la bibliothèque Numpy :"
   ]
  },
  {
   "cell_type": "code",
   "execution_count": 115,
   "id": "ca409eac",
   "metadata": {},
   "outputs": [
    {
     "name": "stdout",
     "output_type": "stream",
     "text": [
      "Temps de calcul avec Numpy : 0.2776010036468506 secondes\n",
      "Temps de calcul avec une boucle for : 12.266480922698975 secondes\n",
      "\n",
      "\n",
      "Pour ce calcul, Numpy a été 44.18745163581522 fois plus rapide.\n"
     ]
    }
   ],
   "source": [
    "# Import de la bibliothèque Time permettant de manipuler le temps\n",
    "from time import time\n",
    "\n",
    "# Création d'un array de 3 millions de valeurs\n",
    "M = np.array([i / 3e6 for i in range(int(3e6))])\n",
    "\n",
    "# Détermination du moment où on commence à compter le temps\n",
    "debut_temps_numpy = time()\n",
    "\n",
    "# Calcul à l'aide de Numpy\n",
    "np.exp(np.sin(M) + np.cos(M))\n",
    "\n",
    "# Détermination du moment où on arrête de compter le temps\n",
    "fin_temps_numpy = time()\n",
    "\n",
    "# Calcul du temps total\n",
    "temps_numpy = fin_temps_numpy - debut_temps_numpy\n",
    "\n",
    "# Affichage du temps en secondes nécessaire pour effectuer le calcul précédent\n",
    "print(\"Temps de calcul avec Numpy :\", temps_numpy, \"secondes\")\n",
    "\n",
    "# Répétition des actions précédentes, avec cette fois un calcul effectué à l'aide d'une boucle for de Python\n",
    "debut_temps_boucle = time()\n",
    "for i in range(M.shape[0]):\n",
    "    M[i] = np.exp(np.sin(M[i]) + np.cos(M[i]))\n",
    "fin_temps_boucle = time()\n",
    "temps_boucle = fin_temps_boucle - debut_temps_boucle\n",
    "print(\"Temps de calcul avec une boucle for :\", temps_boucle, \"secondes\")\n",
    "print(\"\\n\")\n",
    "print(\"Pour ce calcul, Numpy a été\", temps_boucle / temps_numpy, \"fois plus rapide.\")"
   ]
  },
  {
   "cell_type": "markdown",
   "id": "557b6efa",
   "metadata": {},
   "source": [
    "### D'autres fonctions utile en maths avec numpy "
   ]
  },
  {
   "cell_type": "code",
   "execution_count": 61,
   "id": "7583cee8",
   "metadata": {},
   "outputs": [
    {
     "name": "stdout",
     "output_type": "stream",
     "text": [
      "[ 4  6 12]\n",
      "[1. 2. 4.]\n",
      "[1 1 2]\n",
      "[ 3  5 10]\n",
      "[0 0 1]\n",
      "[1 1 0]\n"
     ]
    }
   ],
   "source": [
    "# Calcul de l'indice de la valeur minimale parmi les éléments de chaque colonne de A\n",
    "print(A.argmin(axis = 0))\n",
    "\n",
    "# Calcul de l'indice de la valeur maximale parmi les éléments de chaque colonne de A\n",
    "print(A.argmax(axis = 0))"
   ]
  },
  {
   "cell_type": "code",
   "execution_count": 128,
   "id": "60204fcf",
   "metadata": {},
   "outputs": [
    {
     "name": "stdout",
     "output_type": "stream",
     "text": [
      "[[0.94929747 0.93674647 0.44737829 0.72769634]\n",
      " [0.74223798 0.30698606 0.11977135 0.44387868]\n",
      " [0.39177432 0.53184918 0.84535768 0.53627454]\n",
      " [0.68027015 0.60917758 0.098478   0.09202759]]\n",
      "\n",
      "\n",
      "[[0.94929747 0.74223798 0.39177432 0.68027015]\n",
      " [0.93674647 0.30698606 0.53184918 0.60917758]\n",
      " [0.44737829 0.11977135 0.84535768 0.098478  ]\n",
      " [0.72769634 0.44387868 0.53627454 0.09202759]]\n"
     ]
    }
   ],
   "source": [
    "# Transposer une matrice\n",
    "M = np.random.random((4,4))\n",
    "print(M)\n",
    "print(\"\\n\")\n",
    "print(M.T)"
   ]
  },
  {
   "cell_type": "markdown",
   "id": "5c5b423f",
   "metadata": {},
   "source": [
    "### Matrice de corrélation\n",
    "\n",
    "Une matrice de corrélation est utilisée pour évaluer la dépendence entre plusieurs variables en même temps. Le résultat est une table contenant les coefficients de corrélation entre chaque variable et les autres.\n",
    "\n",
    "Une matrice des corrélations permet de détecter rapidement certaines liaisons. C’est donc en amont des études qu’on l’utilise. \n",
    "\n",
    "\n",
    "#### Correlation de Pearson :"
   ]
  },
  {
   "cell_type": "code",
   "execution_count": 131,
   "id": "d24eab52",
   "metadata": {},
   "outputs": [
    {
     "name": "stdout",
     "output_type": "stream",
     "text": [
      "[[-1.3402814   1.42285966  0.99379727]\n",
      " [-0.61651086  0.20493776 -0.47954552]\n",
      " [ 1.51238621 -1.34683907 -2.78073771]]\n",
      "\n",
      "\n",
      "[[ 1.          0.73429147 -0.88746041]\n",
      " [ 0.73429147  1.         -0.33879077]\n",
      " [-0.88746041 -0.33879077  1.        ]]\n"
     ]
    }
   ],
   "source": [
    "B = np.random.randn(3, 3) # nombres aléatoires 3x3\n",
    "print(B)\n",
    "print(\"\\n\")\n",
    "# retourne la matrice de corrélation de B\n",
    "print(np.corrcoef(B))"
   ]
  },
  {
   "cell_type": "code",
   "execution_count": 132,
   "id": "3fa237a3",
   "metadata": {},
   "outputs": [
    {
     "name": "stdout",
     "output_type": "stream",
     "text": [
      "[[ 1.         -0.97853096]\n",
      " [-0.97853096  1.        ]]\n"
     ]
    }
   ],
   "source": [
    "# retourne la matrice de corrélation entre les lignes 0 et 1 de B\n",
    "print(np.corrcoef(B[:,0], B[:, 1]))"
   ]
  },
  {
   "cell_type": "markdown",
   "id": "ccf8045e",
   "metadata": {},
   "source": [
    "#### np.unique() :  retrourne les éléments constitutifs d'un array"
   ]
  },
  {
   "cell_type": "code",
   "execution_count": 142,
   "id": "f9c3a238",
   "metadata": {},
   "outputs": [
    {
     "data": {
      "text/plain": [
       "array([[11,  2, 11,  0,  3],\n",
       "       [ 5,  9, 10,  4, 11],\n",
       "       [ 4,  6,  4,  4,  3],\n",
       "       [ 4,  4,  8,  4,  3],\n",
       "       [10,  7,  5,  5,  0]])"
      ]
     },
     "execution_count": 142,
     "metadata": {},
     "output_type": "execute_result"
    }
   ],
   "source": [
    "A = np.random.randint(0, 12, [5,5])\n",
    "A"
   ]
  },
  {
   "cell_type": "code",
   "execution_count": 143,
   "id": "f28ca4f9",
   "metadata": {},
   "outputs": [
    {
     "data": {
      "text/plain": [
       "array([ 0,  2,  3,  4,  5,  6,  7,  8,  9, 10, 11])"
      ]
     },
     "execution_count": 143,
     "metadata": {},
     "output_type": "execute_result"
    }
   ],
   "source": [
    "np.unique(A)"
   ]
  },
  {
   "cell_type": "code",
   "execution_count": 144,
   "id": "d7ccbc02",
   "metadata": {},
   "outputs": [
    {
     "name": "stdout",
     "output_type": "stream",
     "text": [
      "valeur 2 apparait 1\n",
      "valeur 6 apparait 1\n",
      "valeur 7 apparait 1\n",
      "valeur 8 apparait 1\n",
      "valeur 9 apparait 1\n",
      "valeur 0 apparait 2\n",
      "valeur 10 apparait 2\n",
      "valeur 3 apparait 3\n",
      "valeur 5 apparait 3\n",
      "valeur 11 apparait 3\n",
      "valeur 4 apparait 7\n"
     ]
    }
   ],
   "source": [
    "values, counts = np.unique(A, return_counts=True)\n",
    "\n",
    "for i, j in zip(values[counts.argsort()], counts[counts.argsort()]):\n",
    "    print(f'valeur {i} apparait {j}')"
   ]
  },
  {
   "cell_type": "markdown",
   "id": "6cd2b249",
   "metadata": {},
   "source": [
    "### Calculs statistiques en présence de données manquates (NaN)\n",
    "\n",
    "Le NaN est une constante qui indique que la valeur donnée n’est pas légale - Not a Number.\n",
    "\n",
    "Notez que NaN et NULL sont deux choses différentes. La valeur NULL indique quelque chose qui n’existe pas et qui est vide.\n",
    "\n",
    "La fonction **np.isnan()** cherche le NaN dans la matrice et renvoie une matrice de booléen"
   ]
  },
  {
   "cell_type": "code",
   "execution_count": 148,
   "id": "2f29f5d1",
   "metadata": {},
   "outputs": [
    {
     "name": "stdout",
     "output_type": "stream",
     "text": [
      "[[False False  True False False]\n",
      " [False False False False False]\n",
      " [False False False False False]\n",
      " [False False False False False]\n",
      " [False False False False False]]\n",
      "\n",
      "\n",
      "ratio NaN/size: 0.04\n",
      "\n",
      "\n",
      "moyenne sans NaN: 0.1203843071871303\n"
     ]
    }
   ],
   "source": [
    "A = np.random.randn(5, 5)\n",
    "A[0, 2] = np.nan # insere un NaN dans la matrice A\n",
    "print(np.isnan(A))\n",
    " \n",
    "print('ratio NaN/size:', (np.isnan(A).sum()/A.size)) # calcule la proportion de NaN dans A\n",
    "print(\"\\n\")\n",
    " \n",
    "print('moyenne sans NaN:', np.nanmean(A)) # calcule la moyenne de A en ignorant les NaN"
   ]
  },
  {
   "cell_type": "markdown",
   "id": "5c82e40f",
   "metadata": {},
   "source": [
    "## Exercice et Solution\n",
    "\n",
    "Standardisez la matrice suivante, c'est a dire effectuez le calcul suivant :\n",
    "$A = \\frac{A - mean(A_{colonne})}{std(A_{colonne})}$"
   ]
  },
  {
   "cell_type": "code",
   "execution_count": 149,
   "id": "1d8e6b27",
   "metadata": {},
   "outputs": [
    {
     "data": {
      "text/plain": [
       "array([[44, 47, 64, 67, 67],\n",
       "       [ 9, 83, 21, 36, 87],\n",
       "       [70, 88, 88, 12, 58],\n",
       "       [65, 39, 87, 46, 88],\n",
       "       [81, 37, 25, 77, 72],\n",
       "       [ 9, 20, 80, 69, 79],\n",
       "       [47, 64, 82, 99, 88],\n",
       "       [49, 29, 19, 19, 14],\n",
       "       [39, 32, 65,  9, 57],\n",
       "       [32, 31, 74, 23, 35]])"
      ]
     },
     "execution_count": 149,
     "metadata": {},
     "output_type": "execute_result"
    }
   ],
   "source": [
    "np.random.seed(0)\n",
    "A = np.random.randint(0, 100, [10, 5])\n",
    "A"
   ]
  },
  {
   "cell_type": "code",
   "execution_count": 150,
   "id": "9b7469fa",
   "metadata": {},
   "outputs": [
    {
     "data": {
      "text/plain": [
       "array([[-0.02206157,  0.        ,  0.13173823,  0.72539252,  0.10755798],\n",
       "       [-1.56637126,  1.61579632, -1.48676006, -0.33034307,  0.96802178],\n",
       "       [ 1.12513992,  1.84021247,  1.03508612, -1.14768676, -0.27965074],\n",
       "       [ 0.90452425, -0.35906585,  0.99744662,  0.0102168 ,  1.01104497],\n",
       "       [ 1.6104944 , -0.44883231, -1.33620208,  1.0659524 ,  0.32267393],\n",
       "       [-1.56637126, -1.21184724,  0.73397016,  0.7935045 ,  0.62383626],\n",
       "       [ 0.11030784,  0.76301493,  0.80924915,  1.81518411,  1.01104497],\n",
       "       [ 0.1985541 , -0.80789816, -1.56203905, -0.90929485, -2.17267111],\n",
       "       [-0.24267724, -0.67324847,  0.16937773, -1.24985473, -0.32267393],\n",
       "       [-0.55153918, -0.7181317 ,  0.50813319, -0.77307091, -1.26918412]])"
      ]
     },
     "execution_count": 150,
     "metadata": {},
     "output_type": "execute_result"
    }
   ],
   "source": [
    "# SOLUTION\n",
    "D = (A - A.mean(axis=0)) / A.std(axis=0)\n",
    "D"
   ]
  },
  {
   "cell_type": "code",
   "execution_count": 151,
   "id": "913219a8",
   "metadata": {},
   "outputs": [
    {
     "name": "stdout",
     "output_type": "stream",
     "text": [
      "[-2.22044605e-17 -4.44089210e-17  0.00000000e+00 -1.22124533e-16\n",
      " -4.44089210e-17]\n",
      "[1. 1. 1. 1. 1.]\n"
     ]
    }
   ],
   "source": [
    "print(D.mean(axis=0)) # les moyennes sont toutes = 0\n",
    "print(D.std(axis=0)) # les std sont tous = 1 "
   ]
  },
  {
   "cell_type": "markdown",
   "id": "28a38160",
   "metadata": {},
   "source": [
    "### Exemple : Prédiction du prix du loyer en fonction de la surface d'une chambre étudiante\n",
    "Essayons d'avoir grâce à Numpy une première intuition du Machine Learning en simulant un problème de régression linéaire univariée.\n",
    "\n",
    "L'idée principale derrière une régression logistique est de pouvoir prédire (estimer) une variable $y$ dite \"explicative\" (ou variable cible) à l'aide d'une seule variable (d'où le terme \"univariée\") $x$ appelée variable explicative. Le lien entre ces deux variables est modélisé par une fonction affine, la formule est donc de la forme :\n",
    "$$\n",
    "y \\approx \\beta_1x + \\beta_0\n",
    "$$\n",
    "\n",
    "Un vecteur $\\beta$ sera utilisé, dans lequel $\\beta_0$ est l'ordonnée à l'origine (on l'appelle aussi le biais) et $\\beta_1$ à la pente de la droite que l'on cherche à ajuster à nos données.\n",
    "\n",
    "Mais comment le modèle estime les paramètres $\\beta_0$ et $\\beta_1$ qui prédisent le mieux (autrement dit, avec le moins d'erreur possible) la variable $y$ à partir de la variable explicative $x$ ?\n",
    "\n",
    "Je vous invite à consulter [cette vidéo](https://www.youtube.com/watch?v=nk2CQITm_eo) de l'excellent youtuber et stasticien [Josh Starmer](https://www.youtube.com/channel/UCtYLUTtgS3k1Fg4y5tAhLbw) mais en attendant, penchons-nous sur ce que représente réellement le vecteur beta.\n",
    "\n",
    "Comme on cherche la droite qui s'ajuste le mieux à nos données, on peut en effet considérer ce vecteur comme une succession de rotations de cette droite.\n",
    "\n",
    "A chaque tentative d'ajustements de la droite (ou itérations), nous devons alors mesurer la distance entre cette droite et nos données, élever chaque distance au carré et ensuite les sommer. Enfin, pour déterminer l'erreur moyenne entre chaque point de nos données et la droite que nous cherchons à faire passer, il suffit de diviser cette somme par le nombre d'entrées utilisées pour ce calcul dans notre jeu de données, ce qui constitue une métrique pour quantifier l'erreur de prédiction obtenue par un modèle de régression, appelée \"erreur quadratique moyenne\" (mean squared error = MSE). Tout cela se résume par la formule suivante :\n",
    "$$\n",
    "MSE = \\frac{1}{n}\\sum_{i=1}^{n}(\\hat{y_i}-y_i)^2\n",
    "$$\n",
    "où $\\hat{y}$ est la prédiction de la variable $y$ par produit matricielle entre une matrice $X$ contenant la variable explicative et le vecteur de régression $\\beta*$ contenant les paramètres $\\beta_0$ et $\\beta_1$ optimaux estimés.\n",
    "\n",
    "Ainsi, nous allons pouvoir, pour chaque rotation de la droite que nous cherchons à ajuster à nos données, calculer l'erreur et ainsi déterminer les paramètres qui minimise cette erreur."
   ]
  },
  {
   "cell_type": "code",
   "execution_count": 155,
   "id": "ab92b3ca",
   "metadata": {},
   "outputs": [],
   "source": [
    "# Création d'une matrice X contenant la variable explicative : la surface de la chambre en m2\n",
    "X = np.array([18,\n",
    "              20,\n",
    "              40,\n",
    "              47])\n",
    "\n",
    "# Création d'un vecteur y contenant la variable cible : le prix du loyer en euros\n",
    "y = np.array([250,\n",
    "              302,\n",
    "              538,\n",
    "              607])\n"
   ]
  },
  {
   "cell_type": "code",
   "execution_count": 156,
   "id": "b80b6da3",
   "metadata": {},
   "outputs": [
    {
     "data": {
      "image/png": "[encoded data removed]",
      "text/plain": [
       "<Figure size 432x288 with 1 Axes>"
      ]
     },
     "metadata": {
      "needs_background": "light"
     },
     "output_type": "display_data"
    }
   ],
   "source": [
    "# Affichage d'un nuage de points permettant de visualiser nos données\n",
    "import matplotlib.pyplot as plt\n",
    "plt.scatter(X, y)\n",
    "plt.show()"
   ]
  },
  {
   "cell_type": "code",
   "execution_count": 157,
   "id": "06e91c54",
   "metadata": {},
   "outputs": [],
   "source": [
    "# Définition d'une fonction qui retourne l'erreur quadratique moyenne associée à une matrice X, un vecteur beta et un vecteur y\n",
    "def mean_squared_error(X, beta, y):\n",
    "    # Calcul de ^y\n",
    "    y_hat = X.dot(beta)\n",
    "    \n",
    "    # Calcul de l'erreur quadratique (î_i - y_i)**2\n",
    "    mse = (y_hat - y)**2\n",
    "    \n",
    "    # On fait la moyenne de l'erreur pour obtenir l'erreur quadratique moyenne\n",
    "    mse = mse.mean()\n",
    "    \n",
    "    return mse"
   ]
  },
  {
   "cell_type": "code",
   "execution_count": 158,
   "id": "3425e2a8",
   "metadata": {},
   "outputs": [],
   "source": [
    "# Initialisation d'une liste vide qui va contenir plus tard les beta à tester\n",
    "errors = []\n",
    "\n",
    "# Création du vecteur beta\n",
    "liste_beta = np.linspace(start = 0.001, stop = 50, num = 1000000)\n",
    "\n",
    "# Ajout de l'erreur quadratique moyenne pour chaque valeur du vecteur beta dans une liste\n",
    "for beta in liste_beta:\n",
    "    errors.append(mean_squared_error(X, beta, y))"
   ]
  },
  {
   "cell_type": "code",
   "execution_count": 159,
   "id": "a4c39af8",
   "metadata": {},
   "outputs": [
    {
     "name": "stdout",
     "output_type": "stream",
     "text": [
      "Le beta optimal est : 13.366196056196056\n"
     ]
    }
   ],
   "source": [
    "# Conversion de la liste contenant les MSE en un array numpy pour pouvoir utiliser la méthode argmin()\n",
    "mse_array = np.array(errors)\n",
    "\n",
    "# Détermination du beta* qui minimise l'erreur quadratique moyenne à l'aide de la méthode .argmin()\n",
    "indice_betaOptimal = mse_array.argmin()\n",
    "\n",
    "beta_optimal = liste_beta[indice_betaOptimal] # l'indice de la plus petite erreur correspond à l'indice du beta optimal\n",
    "\n",
    "print(\"Le beta optimal est :\", beta_optimal)"
   ]
  },
  {
   "cell_type": "code",
   "execution_count": 160,
   "id": "5d325b0b",
   "metadata": {},
   "outputs": [
    {
     "name": "stdout",
     "output_type": "stream",
     "text": [
      "Les prix prédits par ce beta optimal sont : [240.59152901 267.32392112 534.64784225 628.21121464]\n",
      "L'écart moyen entre les prédictions et les vraies valeurs est de 17.16 euros\n"
     ]
    }
   ],
   "source": [
    "# Calcul des prix prédits par ce beta optimal\n",
    "y_hat = X.dot(beta_optimal)\n",
    "print(\"Les prix prédits par ce beta optimal sont :\", y_hat)\n",
    "\n",
    "# Comparaison des prix prédits aux vrais prix des appartements\n",
    "ecart_moyen = np.abs(y_hat - y).mean()\n",
    "print(\"L'écart moyen entre les prédictions et les vraies valeurs est de {} euros\".format(round(ecart_moyen, 2)))"
   ]
  },
  {
   "cell_type": "code",
   "execution_count": 161,
   "id": "921d0aef",
   "metadata": {},
   "outputs": [
    {
     "data": {
      "image/png": "[encoded data removed]",
      "text/plain": [
       "<Figure size 432x288 with 1 Axes>"
      ]
     },
     "metadata": {
      "needs_background": "light"
     },
     "output_type": "display_data"
    }
   ],
   "source": [
    "plt.scatter(X, y)\n",
    "plt.plot(X, y_hat, \"r\")\n",
    "plt.show()"
   ]
  },
  {
   "cell_type": "code",
   "execution_count": null,
   "id": "28284332",
   "metadata": {},
   "outputs": [],
   "source": []
  }
 ],
 "metadata": {
  "kernelspec": {
   "display_name": "Python 3.8.8 ('base')",
   "language": "python",
   "name": "python3"
  },
  "language_info": {
   "codemirror_mode": {
    "name": "ipython",
    "version": 3
   },
   "file_extension": ".py",
   "mimetype": "text/x-python",
   "name": "python",
   "nbconvert_exporter": "python",
   "pygments_lexer": "ipython3",
   "version": "3.8.8"
  },
  "vscode": {
   "interpreter": {
    "hash": "ad2bdc8ecc057115af97d19610ffacc2b4e99fae6737bb82f5d7fb13d2f2c186"
   }
  }
 },
 "nbformat": 4,
 "nbformat_minor": 5
}
