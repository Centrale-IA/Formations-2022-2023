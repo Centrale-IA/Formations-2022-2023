{
 "cells": [
  {
   "cell_type": "markdown",
   "id": "66ab8842",
   "metadata": {},
   "source": [
    "# Numpy: La librairie de calcul optimisé\n",
    "[Numpy](https://numpy.org) (Numerical Python) est la bibliothèque de référence en langage de programmation Python quand il s'agit de devoir effectuer des calculs mathématiques de haut niveau sur un jeu de données, elle présente 6 avantages majeurs :\n",
    "- elle se base sur le concept des tableaux (listes en Python) à la différence qu'ils peuvent être N-dimensionnels, elle manipule donc des matrices\n",
    "- elle comprend quasiment toutes les fonctions mathématiques liées aux concepts nécessaires en Data Science, c'est-à-dire les statistiques, les probabilités, l'algèbre linéaire, l'analyse et l'optimisation\n",
    "- elle s'interface parfaitement avec d'autres librairies Python utiles en Data Science, supporte un grand nombre de hardwares et permet aussi d'effectuer du calcul distribué, du calcul basé sur le GPU (carte graphique) de votre ordinateur\n",
    "- son noyau est codé en C, ce qui permet de profiter de la flexibilité de Python combinée à la vitesse d'un code compilé ; les lignes de code nécessaires et le temps de calcul sont alors très réduits par rapport à une synthaxe Python traditionnelle\n",
    "- sa syntaxe de haut niveau, se rapprochant de l'anglais comme Python, la rend accessible aux programmeurs de tout niveau et expérience\n",
    "- elle est open source, distribuée sous une licence BSD libérale et maintenue publiquement sur [GitHub](https://github.com/numpy/numpy) par une communauté passionnée et très réactive\n",
    "\n",
    "## On va tout d'abord importer la bibliothèque numpy"
   ]
  },
  {
   "cell_type": "code",
   "execution_count": 2,
   "id": "5f2792e2",
   "metadata": {
    "execution": {
     "iopub.execute_input": "2022-10-24T21:31:20.229652Z",
     "iopub.status.busy": "2022-10-24T21:31:20.228964Z",
     "iopub.status.idle": "2022-10-24T21:31:20.257790Z",
     "shell.execute_reply": "2022-10-24T21:31:20.256534Z",
     "shell.execute_reply.started": "2022-10-24T21:31:20.229556Z"
    }
   },
   "outputs": [],
   "source": [
    "import numpy as np"
   ]
  },
  {
   "cell_type": "markdown",
   "id": "9e01d781",
   "metadata": {},
   "source": [
    "## 1. Générateurs de tableaux ndarray\n",
    "\n",
    "### Les arrays Numpy\n",
    "La classe d'objets que nous allons principalement utiliser est la classe **array** de Numpy, ils correspondent aux matrices N-dimensionnels mentionnés dans l'introduction. Ils ne peuvent seulement contenir des données numériques (integer ou float) mais qui peuvent correspondre à des jeux de données diverses tels que des données tabulaires, des séries temporelles ou des images.\n",
    "\n",
    "- générateur par défaut : ndarray()\n",
    "- générateur 1D : np.linspace et np.arange()\n",
    "- générateur ND : np.zeros(), np.ones(), np.random.randn() (ce sont les plus utiles)\n",
    "\n"
   ]
  },
  {
   "cell_type": "code",
   "execution_count": 3,
   "id": "ef2e7310",
   "metadata": {
    "execution": {
     "iopub.execute_input": "2022-10-24T21:31:20.349391Z",
     "iopub.status.busy": "2022-10-24T21:31:20.348983Z",
     "iopub.status.idle": "2022-10-24T21:31:20.363385Z",
     "shell.execute_reply": "2022-10-24T21:31:20.361889Z",
     "shell.execute_reply.started": "2022-10-24T21:31:20.349357Z"
    }
   },
   "outputs": [
    {
     "name": "stdout",
     "output_type": "stream",
     "text": [
      "[1 2 3]\n",
      "\n",
      "\n",
      "[[0. 0. 0.]\n",
      " [0. 0. 0.]]\n",
      "\n",
      "\n",
      "[[1. 1. 1.]\n",
      " [1. 1. 1.]]\n",
      "\n",
      "\n",
      "[[ 1.7246278  -0.23740857  0.26246657]\n",
      " [ 1.2222086   0.03199362 -1.40940658]]\n",
      "\n",
      "\n",
      "[[0.9884525  0.28610346 0.39137213]\n",
      " [0.05099932 0.9976817  0.35290277]]\n",
      "\n",
      "\n",
      "[[7 2 6]\n",
      " [8 3 4]]\n",
      "\n",
      "\n",
      "[[0.80055834 0.0571813  0.10776864]\n",
      " [0.24624103 0.2748261  0.51022102]]\n",
      "\n",
      "\n"
     ]
    }
   ],
   "source": [
    "# générateur par défaut, qui permet de convertir des listes (ou autres objets) en tableau ndarray\n",
    "A = np.array([1, 2, 3]) \n",
    "print(A)\n",
    "print(\"\\n\")\n",
    "\n",
    "# tableau de 0 aux dimensions 2x3\n",
    "A = np.zeros((2, 3))\n",
    "print(A)\n",
    "print(\"\\n\")\n",
    "\n",
    "# tableau de 1 aux dimensions 2x3\n",
    "A = np.ones((2, 3))\n",
    "print(A)\n",
    "print(\"\\n\")\n",
    "\n",
    "# tableau aléatoire (distribution normale) aux dimensions 2x3\n",
    "A = np.random.randn(2, 3) \n",
    "print(A)\n",
    "print(\"\\n\")\n",
    "\n",
    "# tableau aléatoire (distribution uniforme)\n",
    "A = np.random.rand(2, 3) \n",
    "print(A)\n",
    "print(\"\\n\")\n",
    "\n",
    "# tableau d'entiers aléatoires de 0(inclus) a 10 (exclus) et de dimension 2x3\n",
    "A = np.random.randint(0, 10, [2, 3]) \n",
    "print(A)\n",
    "print(\"\\n\")\n",
    "\n",
    "# Création d'une matrice 2x3 remplie de valeurs au hasard entre 0 et 1 à l'aide du constructeur np.random.random()\n",
    "M = np.random.random(size = (2, 3))\n",
    "print(M)\n",
    "print(\"\\n\")"
   ]
  },
  {
   "cell_type": "code",
   "execution_count": 11,
   "id": "964e19aa",
   "metadata": {
    "execution": {
     "iopub.execute_input": "2022-10-24T21:31:20.366462Z",
     "iopub.status.busy": "2022-10-24T21:31:20.366031Z",
     "iopub.status.idle": "2022-10-24T21:31:20.377502Z",
     "shell.execute_reply": "2022-10-24T21:31:20.376343Z",
     "shell.execute_reply.started": "2022-10-24T21:31:20.366422Z"
    }
   },
   "outputs": [
    {
     "name": "stdout",
     "output_type": "stream",
     "text": [
      "<class 'numpy.float16'>\n",
      "[[1. 1. 1.]\n",
      " [1. 1. 1.]]\n",
      "\n",
      "\n",
      "[[ True False False False]\n",
      " [False  True False False]\n",
      " [False False  True False]\n",
      " [False False False  True]]\n",
      "\n",
      "\n"
     ]
    }
   ],
   "source": [
    "# dtype définit le type et la place a occuper sur la mémoire\n",
    "A = np.ones((2, 3), dtype=np.float16)\n",
    "\n",
    "print(type(A[1,1]))\n",
    "print(A)\n",
    "print(\"\\n\")\n",
    "\n",
    "# crée une matrice identité et convertit les éléments en type booléem avec dtype (on peut également écrire np.bool)\n",
    "B = np.eye(4, dtype=bool) \n",
    "print(B)\n",
    "print(\"\\n\")"
   ]
  },
  {
   "cell_type": "code",
   "execution_count": 4,
   "id": "29d5a9bb",
   "metadata": {
    "execution": {
     "iopub.execute_input": "2022-10-24T21:31:20.380403Z",
     "iopub.status.busy": "2022-10-24T21:31:20.379567Z",
     "iopub.status.idle": "2022-10-24T21:31:20.389304Z",
     "shell.execute_reply": "2022-10-24T21:31:20.388094Z",
     "shell.execute_reply.started": "2022-10-24T21:31:20.380360Z"
    }
   },
   "outputs": [
    {
     "name": "stdout",
     "output_type": "stream",
     "text": [
      "[ 1.  2.  3.  4.  5.  6.  7.  8.  9. 10.]\n",
      "\n",
      "\n",
      "[0 1 2 3 4 5 6 7 8 9]\n"
     ]
    }
   ],
   "source": [
    "# crée un array de 1 à 10 (inclus) avec 10 valeurs (float par défault)\n",
    "A = np.linspace(start = 1,stop= 10, num= 10)  \n",
    "\n",
    "# création d'un array de 0 à 10 (non inclus) avec un pas de 10 (int par défault)\n",
    "B = np.arange(start = 0, stop= 10, step= 1) \n",
    "\n",
    "print (A)\n",
    "print(\"\\n\")\n",
    "print(B)"
   ]
  },
  {
   "cell_type": "markdown",
   "id": "b807b99f",
   "metadata": {},
   "source": [
    "#### Iil est possible de remplir une matrice de dimensions données par des valeurs aux hasards suivants une loi normale à l'aide du constructeur suivant :"
   ]
  },
  {
   "cell_type": "code",
   "execution_count": 5,
   "id": "7ba5d239",
   "metadata": {
    "execution": {
     "iopub.execute_input": "2022-10-24T21:31:20.418926Z",
     "iopub.status.busy": "2022-10-24T21:31:20.418187Z",
     "iopub.status.idle": "2022-10-24T21:31:20.427216Z",
     "shell.execute_reply": "2022-10-24T21:31:20.426064Z",
     "shell.execute_reply.started": "2022-10-24T21:31:20.418876Z"
    }
   },
   "outputs": [
    {
     "name": "stdout",
     "output_type": "stream",
     "text": [
      "[[[-0.72785706 -0.12093755  0.15022551 -0.52644696]\n",
      "  [ 0.56471837 -0.66968765  0.37006129 -0.94130182]\n",
      "  [-1.14930315  0.52794893  1.19205485 -0.51208607]\n",
      "  [-0.10616952  1.16569607  1.18982703 -2.89190636]]\n",
      "\n",
      " [[ 0.27397253 -0.45688471  1.01345072  0.32564532]\n",
      "  [ 0.55087212  0.88486317  0.59096788  1.61352696]\n",
      "  [-0.58528061  1.33875621 -0.39248664  1.06933927]\n",
      "  [-0.8627115  -0.7524745   0.75282227  1.48145687]]\n",
      "\n",
      " [[ 0.99968025  0.07485563 -1.01766088  0.3908523 ]\n",
      "  [-0.0838489   0.02675252 -0.14953434 -0.04834927]\n",
      "  [-1.06316713 -0.68560757 -1.11647293  0.02203739]\n",
      "  [ 0.62219379 -1.31028987 -0.74291976 -0.7624544 ]]\n",
      "\n",
      " [[-0.94230914  0.30552512 -1.16127766 -0.62661151]\n",
      "  [ 0.43259709 -0.358179   -0.28882725 -0.57779887]\n",
      "  [ 0.6497403   1.10526425 -0.08234518  0.18499194]\n",
      "  [-1.43926077  2.9462896   0.69778274 -0.90989505]]]\n"
     ]
    }
   ],
   "source": [
    "# Matrice 4x4x4 remplie de valeurs suivant une loi normale centrée réduite à l'aide du constructeur np.random.normal()\n",
    "N = np.random.normal(loc = 0.0, scale = 1.0, size = (4, 4, 4)) \n",
    "# loc = centre de la distribution\n",
    "# scale = Écart-type de la distribution, doit être positif ou nul\n",
    "# size = taille de la matrice souhaitée\n",
    "\n",
    "\n",
    "print(N)"
   ]
  },
  {
   "cell_type": "markdown",
   "id": "ba746b18",
   "metadata": {},
   "source": [
    "## 2. Attributs importants\n",
    "- size\n",
    "- shape"
   ]
  },
  {
   "cell_type": "code",
   "execution_count": 6,
   "id": "6782df81",
   "metadata": {
    "execution": {
     "iopub.execute_input": "2022-10-24T21:31:20.479025Z",
     "iopub.status.busy": "2022-10-24T21:31:20.478599Z",
     "iopub.status.idle": "2022-10-24T21:31:20.486578Z",
     "shell.execute_reply": "2022-10-24T21:31:20.485408Z",
     "shell.execute_reply.started": "2022-10-24T21:31:20.478988Z"
    }
   },
   "outputs": [
    {
     "name": "stdout",
     "output_type": "stream",
     "text": [
      "6\n",
      "\n",
      "\n",
      "(2, 3)\n",
      "\n",
      "\n",
      "<class 'tuple'>\n",
      "\n",
      "\n",
      "2\n"
     ]
    }
   ],
   "source": [
    "A = np.zeros((2, 3)) # création d'un tableau de shape (2, 3)\n",
    "\n",
    "# le nombre d'éléments dans le tableau A\n",
    "print(A.size) \n",
    "print(\"\\n\")\n",
    "\n",
    "# les dimensions du tableau A (sous forme de Tuple)\n",
    "print(A.shape) \n",
    "print(\"\\n\")\n",
    "\n",
    "\n",
    "# voici la preuve que la shape est un tuple\n",
    "print(type(A.shape)) \n",
    "print(\"\\n\")\n",
    "\n",
    "# le nombre d'éléments dans la premiere dimension de A\n",
    "print(A.shape[0]) "
   ]
  },
  {
   "cell_type": "markdown",
   "id": "d1c3ea5b",
   "metadata": {},
   "source": [
    "## 3. Méthodes assez importantes\n",
    "\n",
    "- **reshape()**  pour redimensionner un tableau\n",
    "- **ravel()**  pour applatir un tableau (qu'il ne fasse plus qu'une dimension)\n",
    "- **concatenate()**  assemble 2 tableaux ensemble selon un axes (existe aussi en hstack et vstack)"
   ]
  },
  {
   "cell_type": "code",
   "execution_count": 7,
   "id": "1bb102e1",
   "metadata": {
    "execution": {
     "iopub.execute_input": "2022-10-24T21:31:20.507799Z",
     "iopub.status.busy": "2022-10-24T21:31:20.506973Z",
     "iopub.status.idle": "2022-10-24T21:31:20.517013Z",
     "shell.execute_reply": "2022-10-24T21:31:20.515814Z",
     "shell.execute_reply.started": "2022-10-24T21:31:20.507752Z"
    }
   },
   "outputs": [
    {
     "name": "stdout",
     "output_type": "stream",
     "text": [
      "[[1. 1. 1.]\n",
      " [1. 1. 1.]]\n",
      "\n",
      "\n",
      "[[1. 1.]\n",
      " [1. 1.]\n",
      " [1. 1.]]\n",
      "\n",
      "\n",
      "[1. 1. 1. 1. 1. 1.]\n",
      "\n",
      "\n"
     ]
    }
   ],
   "source": [
    "# création d'un tableau de zéros de shape (2, 3)\n",
    "A = np.ones((2, 3))\n",
    "print(A)\n",
    "print(\"\\n\")\n",
    "\n",
    "# redimensionne le tableau A (3 lignes, 2 colonnes)\n",
    "A = A.reshape((3, 2)) \n",
    "print(A)\n",
    "print(\"\\n\")\n",
    "\n",
    "# Aplatit le tableau A (une seule dimension)\n",
    "A.ravel() \n",
    "print(A.ravel())\n",
    "print(\"\\n\")\n"
   ]
  },
  {
   "cell_type": "markdown",
   "id": "23fcef44",
   "metadata": {},
   "source": [
    "### Concaténation d'arrays Numpy\n",
    "La concaténation d'arrays permet de fusionner plusieurs matrices pour n'en former qu'une seule à l'aide de la méthode np.concatenate(), les arguments à spécifier étant une liste des matrices à fusionner ainsi que la dimension sur laquelle la fusion doit s'effectuer (axe des lignes ou des colonnes) à l'aide d'**axis**. Il faut évidemment que les arrays soient de même taille sur cette dimension.\n",
    "\n",
    "Illustrons encore une fois à l'aide de cet excellent exemple provenant du cours *NumPy pour la Data Science - Manipulation d'arrays Numpy* de [DataScientest](https://datascientest.com) :\n",
    "\n",
    "![Image DataScientest concatenation arrays numpy](img/concatenation_arrays_numpy-Copy1.png)"
   ]
  },
  {
   "cell_type": "code",
   "execution_count": 8,
   "id": "34756625",
   "metadata": {
    "execution": {
     "iopub.execute_input": "2022-10-24T21:31:20.559126Z",
     "iopub.status.busy": "2022-10-24T21:31:20.558372Z",
     "iopub.status.idle": "2022-10-24T21:31:20.570463Z",
     "shell.execute_reply": "2022-10-24T21:31:20.569568Z",
     "shell.execute_reply.started": "2022-10-24T21:31:20.559073Z"
    }
   },
   "outputs": [
    {
     "data": {
      "text/plain": [
       "array([[0., 0., 0.],\n",
       "       [0., 0., 0.],\n",
       "       [1., 1., 1.],\n",
       "       [1., 1., 1.]])"
      ]
     },
     "execution_count": 8,
     "metadata": {},
     "output_type": "execute_result"
    }
   ],
   "source": [
    "A = np.zeros((2, 3)) # création d'un tableau de shape (2, 3)\n",
    "B = np.ones((2, 3)) # création d'un tableau de shape (2, 3)\n",
    "\n",
    "# axe 0 : équivalent de np.vstack((A, B))\n",
    "np.concatenate((A, B), axis=0) "
   ]
  },
  {
   "cell_type": "code",
   "execution_count": 9,
   "id": "a7440d22",
   "metadata": {
    "execution": {
     "iopub.execute_input": "2022-10-24T21:31:20.708094Z",
     "iopub.status.busy": "2022-10-24T21:31:20.707270Z",
     "iopub.status.idle": "2022-10-24T21:31:20.717598Z",
     "shell.execute_reply": "2022-10-24T21:31:20.716522Z",
     "shell.execute_reply.started": "2022-10-24T21:31:20.708039Z"
    },
    "scrolled": true
   },
   "outputs": [
    {
     "data": {
      "text/plain": [
       "array([[0., 0., 0., 1., 1., 1.],\n",
       "       [0., 0., 0., 1., 1., 1.]])"
      ]
     },
     "execution_count": 9,
     "metadata": {},
     "output_type": "execute_result"
    }
   ],
   "source": [
    "# axe 1 : équivalent de np.hstack((A, B))\n",
    "np.concatenate((A, B), axis=1) "
   ]
  },
  {
   "cell_type": "markdown",
   "id": "480a8341",
   "metadata": {},
   "source": [
    "Lorsque 2 matrices sont fusionnées, c'est le type le plus général qui prend le dessus, c'est-à-dire le type **float** dans ce cas précis."
   ]
  },
  {
   "cell_type": "markdown",
   "id": "7dbe1aa4",
   "metadata": {},
   "source": [
    "## 4. Exercice et Solutions"
   ]
  },
  {
   "cell_type": "code",
   "execution_count": 10,
   "id": "37113b13",
   "metadata": {
    "execution": {
     "iopub.execute_input": "2022-10-24T21:31:20.720583Z",
     "iopub.status.busy": "2022-10-24T21:31:20.720125Z",
     "iopub.status.idle": "2022-10-24T21:31:20.727345Z",
     "shell.execute_reply": "2022-10-24T21:31:20.726522Z",
     "shell.execute_reply.started": "2022-10-24T21:31:20.720538Z"
    }
   },
   "outputs": [],
   "source": [
    "# Faites une fonction qui retourne une matrice aléatoire de dimension (m,n) mais avec des 1 sur la colonne de droite\n",
    "#Utilisez la fonction np.concatenate\n",
    "\n",
    "def initialisation(m, n):\n",
    "    # m : nombre de lignes\n",
    "    # n : nombre de colonnes\n",
    "    # retourne une matrice aléatoire (m, n+1)\n",
    "    # avec une colonne biais (remplie de \"1\") tout a droite\n",
    "\n",
    "    return X"
   ]
  },
  {
   "cell_type": "markdown",
   "id": "ca2dd59e",
   "metadata": {},
   "source": [
    "#### Solution ci-dessous"
   ]
  },
  {
   "cell_type": "code",
   "execution_count": 11,
   "id": "2b0149e7",
   "metadata": {
    "execution": {
     "iopub.execute_input": "2022-10-24T21:31:20.737884Z",
     "iopub.status.busy": "2022-10-24T21:31:20.737228Z",
     "iopub.status.idle": "2022-10-24T21:31:20.748543Z",
     "shell.execute_reply": "2022-10-24T21:31:20.747348Z",
     "shell.execute_reply.started": "2022-10-24T21:31:20.737845Z"
    }
   },
   "outputs": [
    {
     "data": {
      "text/plain": [
       "array([[ 1.37520724,  0.18632779,  0.36989115,  1.        ],\n",
       "       [ 0.34761501,  0.92964102, -1.2174229 ,  1.        ],\n",
       "       [-0.36501244,  0.8094633 , -0.81097522,  1.        ]])"
      ]
     },
     "execution_count": 11,
     "metadata": {},
     "output_type": "execute_result"
    }
   ],
   "source": [
    "# SOLUTION\n",
    "def initialisation(m, n):\n",
    "    # m : nombre de lignes\n",
    "    # n : nombre de colonnes\n",
    "    # retourne une matrice aléatoire (m, n+1)\n",
    "    # avec une colonne biais (remplie de \"1\") tout a droite\n",
    "    X = np.random.randn(m, n-1)\n",
    "    X = np.concatenate((X, np.ones((X.shape[0], 1))), axis = 1)\n",
    "\n",
    "    return X\n",
    "\n",
    "initialisation(3, 4)"
   ]
  },
  {
   "cell_type": "markdown",
   "id": "2e6490ab",
   "metadata": {},
   "source": [
    "## Indexing et Slicing\n",
    "\n",
    "#### Indexation d'un array Numpy\n",
    "Comme les arrays Numpy sont multidimensionnels au contraire des listes, il faut indiquer l'indice que nous voulons accéder sur chaque dimension :\n",
    "![Image DataScientest indexation Numpy](img/image_indexation_numpy-Copy1.png)\n"
   ]
  },
  {
   "cell_type": "code",
   "execution_count": 12,
   "id": "79f45ee8",
   "metadata": {
    "execution": {
     "iopub.execute_input": "2022-10-24T21:31:20.779059Z",
     "iopub.status.busy": "2022-10-24T21:31:20.778428Z",
     "iopub.status.idle": "2022-10-24T21:31:20.784018Z",
     "shell.execute_reply": "2022-10-24T21:31:20.783122Z",
     "shell.execute_reply.started": "2022-10-24T21:31:20.779026Z"
    }
   },
   "outputs": [
    {
     "name": "stdout",
     "output_type": "stream",
     "text": [
      "[[1 2 3]\n",
      " [4 5 6]]\n"
     ]
    }
   ],
   "source": [
    "A = np.array([[1, 2, 3], [4, 5, 6]])\n",
    "print(A)"
   ]
  },
  {
   "cell_type": "code",
   "execution_count": 13,
   "id": "cc3fea0a",
   "metadata": {
    "execution": {
     "iopub.execute_input": "2022-10-24T21:31:21.019136Z",
     "iopub.status.busy": "2022-10-24T21:31:21.018705Z",
     "iopub.status.idle": "2022-10-24T21:31:21.026010Z",
     "shell.execute_reply": "2022-10-24T21:31:21.024753Z",
     "shell.execute_reply.started": "2022-10-24T21:31:21.019099Z"
    }
   },
   "outputs": [
    {
     "data": {
      "text/plain": [
       "2"
      ]
     },
     "execution_count": 13,
     "metadata": {},
     "output_type": "execute_result"
    }
   ],
   "source": [
    "# Pour acceder a la ligne 0, colonne 1\n",
    "A[0, 1] "
   ]
  },
  {
   "cell_type": "markdown",
   "id": "d90c424e",
   "metadata": {},
   "source": [
    "Il est possible de découper un array en le sliçant sur chaque dimension :\n",
    "\n",
    "![Image DataScientest slicing Numpy](img/image_slicing_numpy-Copy1.png)\n",
    "![Image Data Scientest slicing Numpy ligne](img/image_slicing_numpy_ligne-Copy1.png)"
   ]
  },
  {
   "cell_type": "code",
   "execution_count": 14,
   "id": "ce4919dc",
   "metadata": {
    "execution": {
     "iopub.execute_input": "2022-10-24T21:31:21.028929Z",
     "iopub.status.busy": "2022-10-24T21:31:21.028524Z",
     "iopub.status.idle": "2022-10-24T21:31:21.037052Z",
     "shell.execute_reply": "2022-10-24T21:31:21.036168Z",
     "shell.execute_reply.started": "2022-10-24T21:31:21.028852Z"
    }
   },
   "outputs": [
    {
     "data": {
      "text/plain": [
       "array([[1, 2],\n",
       "       [4, 5]])"
      ]
     },
     "execution_count": 14,
     "metadata": {},
     "output_type": "execute_result"
    }
   ],
   "source": [
    "# Pour selectionner les blocs de la ligne (0-1) colonne (0-1)\n",
    "A[0:2, 0:2] # 2 pas inclus ici"
   ]
  },
  {
   "cell_type": "code",
   "execution_count": 15,
   "id": "e00602c9",
   "metadata": {
    "execution": {
     "iopub.execute_input": "2022-10-24T21:31:21.039077Z",
     "iopub.status.busy": "2022-10-24T21:31:21.038682Z",
     "iopub.status.idle": "2022-10-24T21:31:21.048137Z",
     "shell.execute_reply": "2022-10-24T21:31:21.047023Z",
     "shell.execute_reply.started": "2022-10-24T21:31:21.039046Z"
    }
   },
   "outputs": [
    {
     "name": "stdout",
     "output_type": "stream",
     "text": [
      "[[10 10  3]\n",
      " [10 10  6]]\n"
     ]
    }
   ],
   "source": [
    "A[0:2, 0:2] = 10\n",
    "print(A)"
   ]
  },
  {
   "cell_type": "markdown",
   "id": "84bbd632",
   "metadata": {},
   "source": [
    "### Boolean Indexing"
   ]
  },
  {
   "cell_type": "code",
   "execution_count": 13,
   "id": "e55cb91d",
   "metadata": {
    "execution": {
     "iopub.execute_input": "2022-10-24T21:31:21.050037Z",
     "iopub.status.busy": "2022-10-24T21:31:21.049311Z",
     "iopub.status.idle": "2022-10-24T21:31:21.059677Z",
     "shell.execute_reply": "2022-10-24T21:31:21.058625Z",
     "shell.execute_reply.started": "2022-10-24T21:31:21.050004Z"
    }
   },
   "outputs": [
    {
     "name": "stdout",
     "output_type": "stream",
     "text": [
      "[[ True  True  True]\n",
      " [ True False False]]\n",
      "\n",
      "\n",
      "[1 2 3 4]\n",
      "\n",
      "\n",
      "[[4 4 4]\n",
      " [4 5 6]]\n"
     ]
    }
   ],
   "source": [
    "A = np.array([[1, 2, 3], [4, 5, 6]])\n",
    " \n",
    "print(A<5) # masque booléen\n",
    "print('\\n')\n",
    " \n",
    "print(A[A < 5]) # sous-ensemble filtré par le masque booléenprint('\\n')\n",
    "print('\\n')\n",
    "\n",
    "A[A<5] = 4 # convertit les valeurs sélectionnées.\n",
    "print(A)\n"
   ]
  },
  {
   "cell_type": "markdown",
   "id": "6c26f4f7",
   "metadata": {},
   "source": [
    "### Indexation conditionnelle d'un array Numpy\n",
    "Ceci permet d'accéder et modifier facilement des éléments qui respectent une condition spécifique."
   ]
  },
  {
   "cell_type": "code",
   "execution_count": 22,
   "id": "aadf6b12",
   "metadata": {
    "execution": {
     "iopub.execute_input": "2022-10-24T21:31:21.062429Z",
     "iopub.status.busy": "2022-10-24T21:31:21.061751Z",
     "iopub.status.idle": "2022-10-24T21:31:21.071715Z",
     "shell.execute_reply": "2022-10-24T21:31:21.070910Z",
     "shell.execute_reply.started": "2022-10-24T21:31:21.062397Z"
    }
   },
   "outputs": [
    {
     "name": "stdout",
     "output_type": "stream",
     "text": [
      "[[ 0  0 30]\n",
      " [ 0  3  0]\n",
      " [ 5  0 10]]\n"
     ]
    }
   ],
   "source": [
    "# Création d'un array de dimension 3x3\n",
    "M = np.array([[-1, 0, 30],\n",
    "              [-2, 3, -5],\n",
    "              [5, -5, 10]])\n",
    "\n",
    "# Assignation à tous les éléments négatifs la valeur 0\n",
    "M[M < 0] = 0\n",
    "\n",
    "# Affichage de la matrice modifiée\n",
    "print(M)"
   ]
  },
  {
   "cell_type": "code",
   "execution_count": 24,
   "id": "b5a251f9",
   "metadata": {
    "execution": {
     "iopub.execute_input": "2022-10-24T21:31:21.073856Z",
     "iopub.status.busy": "2022-10-24T21:31:21.073211Z",
     "iopub.status.idle": "2022-10-24T21:31:21.082451Z",
     "shell.execute_reply": "2022-10-24T21:31:21.081651Z",
     "shell.execute_reply.started": "2022-10-24T21:31:21.073792Z"
    }
   },
   "outputs": [
    {
     "name": "stdout",
     "output_type": "stream",
     "text": [
      "[['ZERO' 'ZERO' 'autre']\n",
      " ['ZERO' 'autre' 'ZERO']\n",
      " ['autre' 'ZERO' 'autre']]\n"
     ]
    }
   ],
   "source": [
    "# Mise en valeur de tous les éléments dont la valeur est égale à 0\n",
    "print(np.where( M==0 , \"ZERO\", \"autre\"))"
   ]
  },
  {
   "cell_type": "markdown",
   "id": "effab335",
   "metadata": {},
   "source": [
    "Il est également possible d'indexer un array à l'aide d'une condition évaluée sur un autre array :"
   ]
  },
  {
   "cell_type": "code",
   "execution_count": 25,
   "id": "ff57a8ca",
   "metadata": {
    "execution": {
     "iopub.execute_input": "2022-10-24T21:31:21.177688Z",
     "iopub.status.busy": "2022-10-24T21:31:21.177100Z",
     "iopub.status.idle": "2022-10-24T21:31:21.185543Z",
     "shell.execute_reply": "2022-10-24T21:31:21.183883Z",
     "shell.execute_reply.started": "2022-10-24T21:31:21.177636Z"
    }
   },
   "outputs": [
    {
     "name": "stdout",
     "output_type": "stream",
     "text": [
      "[ 3 -1 -1 -1  6 -1  2  9]\n"
     ]
    }
   ],
   "source": [
    "# Création de 2 arrays à 8 éléments\n",
    "M1 = np.array([3, -7, -10, 3, 6, 5, 2, 9])\n",
    "M2 = np.array([0, 1, 1, 1, 0, 1, 0, 0])\n",
    "\n",
    "# Assignation de la valeur -1 aux éléments de M1 pour lesquels la valeur de M2 à l'indice correspondant vaut 1\n",
    "M1[M2 == 1] = -1\n",
    "\n",
    "# Affichage de M1\n",
    "print(M1)"
   ]
  },
  {
   "cell_type": "code",
   "execution_count": 26,
   "id": "5f0648f5",
   "metadata": {
    "execution": {
     "iopub.execute_input": "2022-10-24T21:31:21.188529Z",
     "iopub.status.busy": "2022-10-24T21:31:21.188120Z",
     "iopub.status.idle": "2022-10-24T21:31:21.198307Z",
     "shell.execute_reply": "2022-10-24T21:31:21.197029Z",
     "shell.execute_reply.started": "2022-10-24T21:31:21.188497Z"
    }
   },
   "outputs": [
    {
     "name": "stdout",
     "output_type": "stream",
     "text": [
      "[3 6 2 9]\n"
     ]
    }
   ],
   "source": [
    "# Affichage des éléments de M1 pour lesquels la valeur de M2 à l'indice correspondant vaut 0\n",
    "print(M1[M2 == 0])"
   ]
  },
  {
   "cell_type": "markdown",
   "id": "c0f09491",
   "metadata": {},
   "source": [
    "### Exercice\n",
    "\n",
    "A vous de vous entrainer, sur un type de tableau qu'on rencontre souvent sur Python : les images.\n",
    "En effet, une image est une matrice de taille n * m avec n le nombre de pixels en largeur et m le nombre de pixels en hauteur.\n",
    "Pour simplifier, on prendra une image en noir et blanc. Dans ce cas, chaque case contient un nombre entre 0 et 255, qui correspond à un ton de gris (0= noir, 255=blanc)"
   ]
  },
  {
   "cell_type": "code",
   "execution_count": 1,
   "id": "e7c90ccf",
   "metadata": {
    "execution": {
     "iopub.execute_input": "2022-10-24T21:31:54.247397Z",
     "iopub.status.busy": "2022-10-24T21:31:54.246734Z",
     "iopub.status.idle": "2022-10-24T21:31:54.252450Z",
     "shell.execute_reply": "2022-10-24T21:31:54.250927Z",
     "shell.execute_reply.started": "2022-10-24T21:31:54.247361Z"
    }
   },
   "outputs": [
    {
     "ename": "ModuleNotFoundError",
     "evalue": "No module named 'cv2'",
     "output_type": "error",
     "traceback": [
      "\u001b[1;31m---------------------------------------------------------------------------\u001b[0m",
      "\u001b[1;31mModuleNotFoundError\u001b[0m                       Traceback (most recent call last)",
      "\u001b[1;32m<ipython-input-1-1d571fbcf2db>\u001b[0m in \u001b[0;36m<module>\u001b[1;34m\u001b[0m\n\u001b[0;32m      1\u001b[0m \u001b[1;31m#pip install opencv-python\u001b[0m\u001b[1;33m\u001b[0m\u001b[1;33m\u001b[0m\u001b[1;33m\u001b[0m\u001b[0m\n\u001b[0;32m      2\u001b[0m \u001b[1;31m#pip install matplotlib\u001b[0m\u001b[1;33m\u001b[0m\u001b[1;33m\u001b[0m\u001b[1;33m\u001b[0m\u001b[0m\n\u001b[1;32m----> 3\u001b[1;33m \u001b[1;32mimport\u001b[0m \u001b[0mcv2\u001b[0m \u001b[1;32mas\u001b[0m \u001b[0mcv\u001b[0m\u001b[1;33m\u001b[0m\u001b[1;33m\u001b[0m\u001b[0m\n\u001b[0m\u001b[0;32m      4\u001b[0m \u001b[1;32mimport\u001b[0m \u001b[0mmatplotlib\u001b[0m\u001b[1;33m.\u001b[0m\u001b[0mpyplot\u001b[0m \u001b[1;32mas\u001b[0m \u001b[0mplt\u001b[0m\u001b[1;33m\u001b[0m\u001b[1;33m\u001b[0m\u001b[0m\n",
      "\u001b[1;31mModuleNotFoundError\u001b[0m: No module named 'cv2'"
     ]
    }
   ],
   "source": [
    "#pip install opencv-python\n",
    "#pip install matplotlib\n",
    "import cv2 as cv\n",
    "import matplotlib.pyplot as plt"
   ]
  },
  {
   "cell_type": "code",
   "execution_count": 84,
   "id": "2bb15695",
   "metadata": {
    "execution": {
     "iopub.execute_input": "2022-10-24T21:56:58.608708Z",
     "iopub.status.busy": "2022-10-24T21:56:58.608294Z",
     "iopub.status.idle": "2022-10-24T21:56:58.625606Z",
     "shell.execute_reply": "2022-10-24T21:56:58.624239Z",
     "shell.execute_reply.started": "2022-10-24T21:56:58.608676Z"
    }
   },
   "outputs": [
    {
     "name": "stdout",
     "output_type": "stream",
     "text": [
      "Dimensions de l'image: (512, 512, 3)\n",
      "Nouvelles dimensions de l'image: (512, 512)\n",
      "\n",
      "[[196 196 197 ... 140 140 139]\n",
      " [196 196 196 ... 138 140 141]\n",
      " [196 196 196 ... 140 140 139]\n",
      " ...\n",
      " [154 161 167 ...  60  59  62]\n",
      " [154 158 163 ...  58  58  61]\n",
      " [145 151 160 ...  63  64  67]]\n"
     ]
    }
   ],
   "source": [
    "image = cv.imread(\"../input/images-forma/Lenna.png\")\n",
    "#image est un tableau numpy\n",
    "print(\"Dimensions de l'image: \" +  str(image.shape))\n",
    "#on transforme le rgb en noir et blanc pour avoir une matrice de 2 dimensions\n",
    "image = image[:,:,0]\n",
    "print(\"Nouvelles dimensions de l'image: \" +  str(image.shape) + \"\\n\")"
   ]
  },
  {
   "cell_type": "markdown",
   "id": "3720849e",
   "metadata": {},
   "source": [
    "On commence par afficher la matrice:"
   ]
  },
  {
   "cell_type": "code",
   "execution_count": 85,
   "id": "662cd4c4",
   "metadata": {
    "execution": {
     "iopub.execute_input": "2022-10-24T21:58:49.428941Z",
     "iopub.status.busy": "2022-10-24T21:58:49.428459Z",
     "iopub.status.idle": "2022-10-24T21:58:49.435792Z",
     "shell.execute_reply": "2022-10-24T21:58:49.434513Z",
     "shell.execute_reply.started": "2022-10-24T21:58:49.428903Z"
    }
   },
   "outputs": [
    {
     "name": "stdout",
     "output_type": "stream",
     "text": [
      "[[196 196 197 ... 140 140 139]\n",
      " [196 196 196 ... 138 140 141]\n",
      " [196 196 196 ... 140 140 139]\n",
      " ...\n",
      " [154 161 167 ...  60  59  62]\n",
      " [154 158 163 ...  58  58  61]\n",
      " [145 151 160 ...  63  64  67]]\n"
     ]
    }
   ],
   "source": [
    "print(image)"
   ]
  },
  {
   "cell_type": "markdown",
   "id": "3e66b18b",
   "metadata": {},
   "source": [
    "Voici l'image correspondante:"
   ]
  },
  {
   "cell_type": "code",
   "execution_count": 86,
   "id": "cc2b7f8a",
   "metadata": {
    "execution": {
     "iopub.execute_input": "2022-10-24T21:58:54.127714Z",
     "iopub.status.busy": "2022-10-24T21:58:54.127271Z",
     "iopub.status.idle": "2022-10-24T21:58:54.404597Z",
     "shell.execute_reply": "2022-10-24T21:58:54.403052Z",
     "shell.execute_reply.started": "2022-10-24T21:58:54.127678Z"
    }
   },
   "outputs": [
    {
     "data": {
      "text/plain": [
       "<matplotlib.image.AxesImage at 0x7ff43121ae50>"
      ]
     },
     "execution_count": 86,
     "metadata": {},
     "output_type": "execute_result"
    },
    {
     "data": {
      "image/png": "[encoded data removed]",
      "text/plain": [
       "<Figure size 432x288 with 1 Axes>"
      ]
     },
     "metadata": {
      "needs_background": "light"
     },
     "output_type": "display_data"
    }
   ],
   "source": [
    "plt.imshow(image, cmap='gray')"
   ]
  },
  {
   "cell_type": "markdown",
   "id": "a7d348e6",
   "metadata": {
    "execution": {
     "iopub.execute_input": "2022-10-24T22:02:45.956209Z",
     "iopub.status.busy": "2022-10-24T22:02:45.954742Z",
     "iopub.status.idle": "2022-10-24T22:02:45.963078Z",
     "shell.execute_reply": "2022-10-24T22:02:45.961598Z",
     "shell.execute_reply.started": "2022-10-24T22:02:45.956162Z"
    }
   },
   "source": [
    "### 2ème partie de l'exo\n",
    "- Dans un premier temps, effectuez un zoom de 1/2 sur le centre de l'image.\n",
    "\n",
    "- Ensuite, augmentez le contraste de l'image: pour cela, vous pouvez par exemple diviser par 2 la valeur des pixels qui sont inférieurs à 200."
   ]
  },
  {
   "cell_type": "code",
   "execution_count": null,
   "id": "8d961ea3",
   "metadata": {},
   "outputs": [],
   "source": [
    "#zoom= ...\n",
    "plt.imshow(zoom, cmap='gray')"
   ]
  },
  {
   "cell_type": "code",
   "execution_count": null,
   "id": "bfcefdfe",
   "metadata": {},
   "outputs": [],
   "source": [
    "contraste = np.copy(image)\n",
    "#A completer...\n",
    "plt.imshow(contraste, cmap='gray')"
   ]
  },
  {
   "cell_type": "markdown",
   "id": "b9474c12",
   "metadata": {},
   "source": [
    "**Solutions:**\n",
    "\n",
    "\n",
    " "
   ]
  },
  {
   "cell_type": "code",
   "execution_count": 90,
   "id": "f14212ac",
   "metadata": {
    "execution": {
     "iopub.execute_input": "2022-10-24T22:09:52.879641Z",
     "iopub.status.busy": "2022-10-24T22:09:52.879192Z",
     "iopub.status.idle": "2022-10-24T22:09:53.128270Z",
     "shell.execute_reply": "2022-10-24T22:09:53.127097Z",
     "shell.execute_reply.started": "2022-10-24T22:09:52.879603Z"
    }
   },
   "outputs": [
    {
     "data": {
      "text/plain": [
       "<matplotlib.image.AxesImage at 0x7ff4315ed4d0>"
      ]
     },
     "execution_count": 90,
     "metadata": {},
     "output_type": "execute_result"
    },
    {
     "data": {
      "image/png": "[encoded data removed]",
      "text/plain": [
       "<Figure size 432x288 with 1 Axes>"
      ]
     },
     "metadata": {
      "needs_background": "light"
     },
     "output_type": "display_data"
    }
   ],
   "source": [
    "zoom=image[512//4:-512//4,512//4:-512//4]\n",
    "plt.imshow(zoom, cmap='gray')"
   ]
  },
  {
   "cell_type": "code",
   "execution_count": 103,
   "id": "e94ca27c",
   "metadata": {
    "execution": {
     "iopub.execute_input": "2022-10-24T22:26:24.854913Z",
     "iopub.status.busy": "2022-10-24T22:26:24.854361Z",
     "iopub.status.idle": "2022-10-24T22:26:25.129127Z",
     "shell.execute_reply": "2022-10-24T22:26:25.128291Z",
     "shell.execute_reply.started": "2022-10-24T22:26:24.854871Z"
    }
   },
   "outputs": [
    {
     "data": {
      "text/plain": [
       "<matplotlib.image.AxesImage at 0x7ff430740c10>"
      ]
     },
     "execution_count": 103,
     "metadata": {},
     "output_type": "execute_result"
    },
    {
     "data": {
      "image/png": "[encoded data removed]",
      "text/plain": [
       "<Figure size 432x288 with 1 Axes>"
      ]
     },
     "metadata": {
      "needs_background": "light"
     },
     "output_type": "display_data"
    }
   ],
   "source": [
    "contraste = np.copy(image)\n",
    "contraste[contraste < 200] = contraste[contraste < 200]//2\n",
    "plt.imshow(contraste, cmap='gray')"
   ]
  },
  {
   "cell_type": "markdown",
   "id": "14ec0d23",
   "metadata": {},
   "source": [
    "On peut ainsi facilement manipuler les images avec python, ce qui sera extrèmement utile pour le préprocessing des images lors de projets de Machine Learning sur des images. \n",
    "\n",
    "Par exemple, le code suivant permet de réduire la qualité d'une image, afin de réduire le temps de calcul sans trop de perte d'informations."
   ]
  },
  {
   "cell_type": "code",
   "execution_count": 114,
   "id": "c5673f05",
   "metadata": {
    "execution": {
     "iopub.execute_input": "2022-10-24T22:52:58.045760Z",
     "iopub.status.busy": "2022-10-24T22:52:58.044767Z",
     "iopub.status.idle": "2022-10-24T22:52:58.300538Z",
     "shell.execute_reply": "2022-10-24T22:52:58.299243Z",
     "shell.execute_reply.started": "2022-10-24T22:52:58.045699Z"
    }
   },
   "outputs": [
    {
     "name": "stdout",
     "output_type": "stream",
     "text": [
      "(128, 128)\n"
     ]
    },
    {
     "data": {
      "text/plain": [
       "<matplotlib.image.AxesImage at 0x7ff4307395d0>"
      ]
     },
     "execution_count": 114,
     "metadata": {},
     "output_type": "execute_result"
    },
    {
     "data": {
      "image/png": "[encoded data removed]",
      "text/plain": [
       "<Figure size 432x288 with 1 Axes>"
      ]
     },
     "metadata": {
      "needs_background": "light"
     },
     "output_type": "display_data"
    }
   ],
   "source": [
    "copy = image[0:512:4,0:512:4]\n",
    "print(copy.shape)\n",
    "plt.imshow(copy, cmap='gray')"
   ]
  },
  {
   "cell_type": "markdown",
   "id": "6de0fcd2",
   "metadata": {},
   "source": [
    "# Mathématiques avec numpy\n"
   ]
  },
  {
   "cell_type": "markdown",
   "id": "aec042b6",
   "metadata": {},
   "source": [
    "## 1. Méthodes de bases (les plus utiles) de la classe ndarray\n",
    "\n",
    "### Opérations mathématiques de base\n",
    "Comme dit précédemment, l'intérêt de Numpy est de pouvoir effectuer des calculs sur de grandes matrices en un temps très réduit et ce, quelque soient leurs dimensions. La liste complète se trouve sur [ce lien](https://numpy.org/doc/stable/reference/routines.math.html)."
   ]
  },
  {
   "cell_type": "code",
   "execution_count": 30,
   "id": "02d35073",
   "metadata": {
    "execution": {
     "iopub.execute_input": "2022-10-24T21:31:21.430866Z",
     "iopub.status.busy": "2022-10-24T21:31:21.430509Z",
     "iopub.status.idle": "2022-10-24T21:31:21.443473Z",
     "shell.execute_reply": "2022-10-24T21:31:21.442207Z",
     "shell.execute_reply.started": "2022-10-24T21:31:21.430809Z"
    }
   },
   "outputs": [
    {
     "name": "stdout",
     "output_type": "stream",
     "text": [
      "somme : 21\n",
      "\n",
      "\n",
      "somme des colonnes :  [5 7 9]\n",
      "\n",
      "\n",
      "somme des lignes: [ 6 15]\n",
      "\n",
      "\n",
      "somme cumulée: [[1 2 3]\n",
      " [5 7 9]]\n",
      "\n",
      "\n",
      "produit: 720\n",
      "\n",
      "\n",
      "produit cumulé: [  1   2   6  24 120 720]\n",
      "\n",
      "\n",
      "min du tableau: 1\n",
      "\n",
      "\n",
      "max du tableau 6\n",
      "\n",
      "\n",
      "moyenne de A: 3.5\n",
      "\n",
      "\n",
      "écart type de A: 1.707825127659933\n",
      "\n",
      "\n",
      "Variance de A: 2.9166666666666665\n",
      "\n",
      "\n"
     ]
    }
   ],
   "source": [
    "A = np.array([[1, 2, 3], [4, 5, 6]])\n",
    "\n",
    "print(\"somme :\", A.sum()) # effectue la somme de tous les ésléments du tableau\n",
    "print(\"\\n\")\n",
    "print(\"somme des colonnes : \",A.sum(axis=0)) # effectue la somme des colonnes (somme sur éléments des les lignes)\n",
    "print(\"\\n\")\n",
    "print(\"somme des lignes:\",A.sum(axis=1)) # effectue la somme des lignes (somme sur les éléments des colonnes)\n",
    "print(\"\\n\")\n",
    "print(\"somme cumulée:\",A.cumsum(axis=0)) # effectue la somme cumulée\n",
    "print(\"\\n\")\n",
    " \n",
    "print(\"produit:\",A.prod()) # effectue le produit\n",
    "print(\"\\n\")\n",
    "print(\"produit cumulé:\",A.cumprod()) # effectue le produit cumulé\n",
    "print(\"\\n\")\n",
    " \n",
    "print(\"min du tableau:\",A.min()) # trouve le minimum du tableau\n",
    "print(\"\\n\")\n",
    "print(\"max du tableau\",A.max()) # trouve le maximum du tableau\n",
    "print(\"\\n\")\n",
    " \n",
    "print(\"moyenne de A:\",A.mean()) # calcule la moyenne\n",
    "print(\"\\n\")\n",
    "print(\"écart type de A:\",A.std()) # calcule l'ecart type,\n",
    "print(\"\\n\")\n",
    "print(\"Variance de A:\",A.var()) # calcule la variance\n",
    "print(\"\\n\")"
   ]
  },
  {
   "cell_type": "markdown",
   "id": "2d4ea819",
   "metadata": {},
   "source": [
    "### Opérations arithmétiques de base\n",
    "Une opération arithmétique de base (+, -, \\*, /, \\*\\*, //, %) effectuée entre 2 arrays Numpy s'appliquera entre chaque paire d'éléments.\n",
    "\n",
    "Pour que ces opérations puissent être effectuées, il est nécessaire que les 2 matrices aient les mêmes dimensions !"
   ]
  },
  {
   "cell_type": "code",
   "execution_count": 24,
   "id": "43ab6019",
   "metadata": {
    "execution": {
     "iopub.execute_input": "2022-10-24T21:31:21.445367Z",
     "iopub.status.busy": "2022-10-24T21:31:21.445002Z",
     "iopub.status.idle": "2022-10-24T21:31:21.456295Z",
     "shell.execute_reply": "2022-10-24T21:31:21.455088Z",
     "shell.execute_reply.started": "2022-10-24T21:31:21.445311Z"
    }
   },
   "outputs": [
    {
     "name": "stdout",
     "output_type": "stream",
     "text": [
      "addidition: [[ 8  5 25]\n",
      " [16 10 50]]\n",
      "\n",
      "\n",
      "soustraction: [[ 6  1 17]\n",
      " [12  2 34]]\n",
      "\n",
      "\n",
      "mutliplication: [[  7   6  84]\n",
      " [ 28  24 336]]\n",
      "\n",
      "\n",
      "division: [[7.   1.5  5.25]\n",
      " [7.   1.5  5.25]]\n",
      "\n",
      "\n",
      "M1 puissance M2: [[            7             9        194481]\n",
      " [          196          1296 9682651996416]]\n",
      "\n",
      "\n",
      "division entière de M1 par M2: [[7 1 5]\n",
      " [7 1 5]]\n",
      "\n",
      "\n",
      "reste de la divions de M1 par M2: [[0 1 1]\n",
      " [0 2 2]]\n"
     ]
    }
   ],
   "source": [
    "M1 = np.array([[7, 3, 21],\n",
    "               [14, 6, 42]])\n",
    "\n",
    "M2 = np.array([[1, 2, 4],\n",
    "               [2, 4, 8]])\n",
    "\n",
    "# Addition entre les 2 arrays\n",
    "print(\"addidition:\",M1 + M2)\n",
    "print(\"\\n\")\n",
    "\n",
    "# Soustraction entre les 2 arrays\n",
    "print(\"soustraction:\",M1 - M2)\n",
    "print(\"\\n\")\n",
    "\n",
    "# Multiplication entre les 2 arrays (ce n'est pas un produit matriciel!!!)\n",
    "print(\"mutliplication:\",M1 * M2)\n",
    "print(\"\\n\")\n",
    "\n",
    "# Division entre les 2 arrays\n",
    "print(\"division:\",M1 / M2)\n",
    "print(\"\\n\")\n",
    "\n",
    "# M1 à la puissance M2\n",
    "print(\"M1 puissance M2:\",M1 ** M2)\n",
    "print(\"\\n\")\n",
    "\n",
    "# Dvision entière entre les 2 arrays\n",
    "print(\"division entière de M1 par M2:\",M1 // M2)\n",
    "print(\"\\n\")\n",
    "\n",
    "# Modulo (reste de la division entière) entre les 2 arrays\n",
    "print(\"reste de la divions de M1 par M2:\",M1 % M2)\n"
   ]
  },
  {
   "cell_type": "markdown",
   "id": "b54b5ef0",
   "metadata": {},
   "source": [
    "Pour effectuer \n",
    " un produit matriciel entre 2 ou plusieurs matrices, il faut plutôt utiliser la méthode **.dot()** des arrays Numpy.\n",
    "\n",
    "Rappel : Il faut que le nombre de colonnes de la première matrice corresponde au nombre de lignes de la deuxième pour que cette opération puisse fonctionner, la matrice résultante aura pour dimension le nombre de lignes de la première et le nombre de colonnes de la deuxième."
   ]
  },
  {
   "cell_type": "markdown",
   "id": "295e528c",
   "metadata": {},
   "source": [
    "### Broadcasting (diffusion) entre une valeur constante et une matrice\n",
    "Mathématiquement, une opération arithmétique telle que l'addition entre une valeur constante et une matrice n'a pas de sens. Numpy va ainsi diffuser la constante de manière à ce que l'opération puisse se faire entre elle et chaque terme de la matrice :\n",
    "\n",
    "$$ M = \\begin{pmatrix} 1 & 2 & 3\\\\ \\ 4 & 5 & 6 \\end{pmatrix}, c = 10 $$\n",
    "\n",
    "$$ M + c = \\begin{pmatrix} 1 + 10 & 2 + 10 & 3 + 10\\\\ \\ 4 + 10 & 5 + 10 & 6 + 10\\end{pmatrix}\n",
    "= \\begin{pmatrix} 11 & 12 & 13\\\\ \\ 14 & 15 & 16 \\end{pmatrix} $$\n",
    "\n",
    "On en déduit qu'au niveau de la librairie Numpy, la constante **c** s'est en réalité transformée de la manière suivante :\n",
    "$$ c \\xrightarrow{\\text{broadcasting}} C = \\begin{pmatrix} c & c & c\\\\ \\ c & c & c \\end{pmatrix} $$"
   ]
  },
  {
   "cell_type": "code",
   "execution_count": 25,
   "id": "e2c3183a",
   "metadata": {
    "execution": {
     "iopub.execute_input": "2022-10-24T21:31:21.458406Z",
     "iopub.status.busy": "2022-10-24T21:31:21.457963Z",
     "iopub.status.idle": "2022-10-24T21:31:21.473621Z",
     "shell.execute_reply": "2022-10-24T21:31:21.471324Z",
     "shell.execute_reply.started": "2022-10-24T21:31:21.458365Z"
    }
   },
   "outputs": [
    {
     "name": "stdout",
     "output_type": "stream",
     "text": [
      "[[11 12 13]\n",
      " [14 15 16]]\n"
     ]
    }
   ],
   "source": [
    "M = np.array([[1, 2, 3],\n",
    "              [4, 5, 6]])\n",
    "c = 10\n",
    "\n",
    "# Broadcasting de c pour pouvoir effectuer M + c\n",
    "print(M + c)"
   ]
  },
  {
   "cell_type": "markdown",
   "id": "11c4c5c1",
   "metadata": {},
   "source": [
    "### Broadcasting (diffusion) entre un vecteur et une matrice\n",
    "Le broadcasting entre un vecteur et une matrice est également possible. Il faut toutefois que pour chaque dimension du vecteur, celui-ci respecte une des conditions suivantes afin de pouvoir être broadcasté en dimensions compatibles avec la matrice:\n",
    "- les dimensions sont égales\n",
    "- une des dimensions vaut 1\n",
    "\n",
    "Ainsi, l'opération de soustraction peut être effectué entre la matrice et le vecteur suivants :\n",
    "$$ M_1 = \\begin{pmatrix} 1 & 2 & 3\\\\ \\ 4 & 5 & 6 \\end{pmatrix} $$\n",
    "$$ \\overrightarrow{v_1} = \\begin{pmatrix} 5\\\\ \\ 10 \\end{pmatrix} $$\n",
    "\n",
    "$$ M_1 - \\overrightarrow{v_1} = \\begin{pmatrix} 1 - 5 & 2 - 5 & 3 - 5\\\\ \\ 4 - 10 & 5 - 10 & 6 - 10\\end{pmatrix} \n",
    "= \\begin{pmatrix} -4 & -3 & -2\\\\ \\ -6 & -5 & -4 \\end{pmatrix} $$\n",
    "\n",
    "De même qu'entre la matrice et le vecteur suivants :\n",
    "$$ M_2 = \\begin{pmatrix} 1 & 2\\\\ \\ 3 & 4\\\\ \\ 5 & 6 \\end{pmatrix} $$\n",
    "$$ \\overrightarrow{v_2} = \\begin{pmatrix} 10 & 20 \\end{pmatrix} $$\n",
    "\n",
    "$$ M_2 - \\overrightarrow{v_2} = \\begin{pmatrix} 1 - 10 & 2 - 20\\\\ \\ 3 - 10 & 4 - 20\\\\ \\ 5 - 10 & 6 - 20\\end{pmatrix} \n",
    "= \\begin{pmatrix} -9 & -18\\\\ \\ -7 & -16\\\\ \\ -5 & -14 \\end{pmatrix} $$\n",
    "\n",
    "A contrario, n'importe quel des opérations arithmétiques de base citées précédemment ne peut pas être effectué car le vecteur suivant ne respecte pas les bonnes conditions :\n",
    "$$ M_3 = \\begin{pmatrix} 1 & 2 & 3 \\\\ \\ 4 & 5 & 6\\\\ \\ 7 & 8 & 9 \\end{pmatrix} $$\n",
    "$$ \\overrightarrow{v_3} = \\begin{pmatrix} 5\\\\ \\ 10\\\\ \\ 15\\\\ 20 \\end{pmatrix} $$"
   ]
  },
  {
   "cell_type": "code",
   "execution_count": 26,
   "id": "b6fa592b",
   "metadata": {
    "execution": {
     "iopub.execute_input": "2022-10-24T21:31:21.476456Z",
     "iopub.status.busy": "2022-10-24T21:31:21.476116Z",
     "iopub.status.idle": "2022-10-24T21:31:21.483247Z",
     "shell.execute_reply": "2022-10-24T21:31:21.482311Z",
     "shell.execute_reply.started": "2022-10-24T21:31:21.476426Z"
    }
   },
   "outputs": [
    {
     "name": "stdout",
     "output_type": "stream",
     "text": [
      "[[ -9 -18]\n",
      " [ -7 -16]\n",
      " [ -5 -14]]\n"
     ]
    }
   ],
   "source": [
    "M = np.array([[1, 2],\n",
    "              [3, 4],\n",
    "              [5, 6]])\n",
    "v = [10, 20]\n",
    "\n",
    "# Broadcasting de v pour pouvoir effectuer M - v\n",
    "print(M - v)"
   ]
  },
  {
   "cell_type": "markdown",
   "id": "176b321d",
   "metadata": {},
   "source": [
    "### Temps d'execution\n",
    "\n",
    "Comparons les temps d'exécution de 2 calculs sur un array comprenant 3 millions de valeurs afin de réellement comprendre pourquoi on parle de \"calcul optimisé\" dans le cas de la bibliothèque Numpy :"
   ]
  },
  {
   "cell_type": "code",
   "execution_count": 27,
   "id": "a88ccf59",
   "metadata": {
    "execution": {
     "iopub.execute_input": "2022-10-24T21:31:21.509518Z",
     "iopub.status.busy": "2022-10-24T21:31:21.508880Z",
     "iopub.status.idle": "2022-10-24T21:31:36.627484Z",
     "shell.execute_reply": "2022-10-24T21:31:36.626675Z",
     "shell.execute_reply.started": "2022-10-24T21:31:21.509485Z"
    }
   },
   "outputs": [
    {
     "name": "stdout",
     "output_type": "stream",
     "text": [
      "Temps de calcul avec Numpy : 0.10413169860839844 secondes\n",
      "Temps de calcul avec une boucle for : 14.430531740188599 secondes\n",
      "\n",
      "\n",
      "Pour ce calcul, Numpy a été 138.5796249656562 fois plus rapide.\n"
     ]
    }
   ],
   "source": [
    "# Import de la bibliothèque Time permettant de manipuler le temps\n",
    "from time import time\n",
    "\n",
    "# Création d'un array de 3 millions de valeurs\n",
    "M = np.array([i / 3e6 for i in range(int(3e6))])\n",
    "\n",
    "# Détermination du moment où on commence à compter le temps\n",
    "debut_temps_numpy = time()\n",
    "\n",
    "# Calcul à l'aide de Numpy\n",
    "np.exp(np.sin(M) + np.cos(M))\n",
    "\n",
    "# Détermination du moment où on arrête de compter le temps\n",
    "fin_temps_numpy = time()\n",
    "\n",
    "# Calcul du temps total\n",
    "temps_numpy = fin_temps_numpy - debut_temps_numpy\n",
    "\n",
    "# Affichage du temps en secondes nécessaire pour effectuer le calcul précédent\n",
    "print(\"Temps de calcul avec Numpy :\", temps_numpy, \"secondes\")\n",
    "\n",
    "# Répétition des actions précédentes, avec cette fois un calcul effectué à l'aide d'une boucle for de Python\n",
    "debut_temps_boucle = time()\n",
    "for i in range(M.shape[0]):\n",
    "    M[i] = np.exp(np.sin(M[i]) + np.cos(M[i]))\n",
    "fin_temps_boucle = time()\n",
    "temps_boucle = fin_temps_boucle - debut_temps_boucle\n",
    "print(\"Temps de calcul avec une boucle for :\", temps_boucle, \"secondes\")\n",
    "print(\"\\n\")\n",
    "print(\"Pour ce calcul, Numpy a été\", temps_boucle / temps_numpy, \"fois plus rapide.\")"
   ]
  },
  {
   "cell_type": "markdown",
   "id": "5fe94ef5",
   "metadata": {},
   "source": [
    "### D'autres fonctions utile en maths avec numpy "
   ]
  },
  {
   "cell_type": "code",
   "execution_count": 31,
   "id": "34388db6",
   "metadata": {
    "execution": {
     "iopub.execute_input": "2022-10-24T21:31:36.629661Z",
     "iopub.status.busy": "2022-10-24T21:31:36.629314Z",
     "iopub.status.idle": "2022-10-24T21:31:36.636330Z",
     "shell.execute_reply": "2022-10-24T21:31:36.635175Z",
     "shell.execute_reply.started": "2022-10-24T21:31:36.629629Z"
    }
   },
   "outputs": [
    {
     "name": "stdout",
     "output_type": "stream",
     "text": [
      "[0 0 0]\n",
      "[1 1 1]\n"
     ]
    }
   ],
   "source": [
    "np.array([[1, 2, 3],\n",
    "              [4, 5, 6]])\n",
    "\n",
    "# Calcul de l'indice de la valeur minimale parmi les éléments de chaque colonne de A\n",
    "print(A.argmin(axis = 0))\n",
    "\n",
    "# Calcul de l'indice de la valeur maximale parmi les éléments de chaque colonne de A\n",
    "print(A.argmax(axis = 0))"
   ]
  },
  {
   "cell_type": "code",
   "execution_count": 29,
   "id": "39527751",
   "metadata": {
    "execution": {
     "iopub.execute_input": "2022-10-24T21:31:36.638505Z",
     "iopub.status.busy": "2022-10-24T21:31:36.638129Z",
     "iopub.status.idle": "2022-10-24T21:31:36.652166Z",
     "shell.execute_reply": "2022-10-24T21:31:36.650870Z",
     "shell.execute_reply.started": "2022-10-24T21:31:36.638473Z"
    }
   },
   "outputs": [
    {
     "name": "stdout",
     "output_type": "stream",
     "text": [
      "[[0.5012601  0.24861662 0.45107695 0.48443171]\n",
      " [0.80100817 0.0113085  0.40774391 0.10585806]\n",
      " [0.3700455  0.32189038 0.4762448  0.02661054]\n",
      " [0.69220259 0.13190365 0.72905567 0.73429882]]\n",
      "\n",
      "\n",
      "[[0.5012601  0.80100817 0.3700455  0.69220259]\n",
      " [0.24861662 0.0113085  0.32189038 0.13190365]\n",
      " [0.45107695 0.40774391 0.4762448  0.72905567]\n",
      " [0.48443171 0.10585806 0.02661054 0.73429882]]\n"
     ]
    }
   ],
   "source": [
    "# Transposer une matrice\n",
    "M = np.random.random((4,4))\n",
    "print(M)\n",
    "print(\"\\n\")\n",
    "print(M.T)"
   ]
  },
  {
   "cell_type": "markdown",
   "id": "f983aa11",
   "metadata": {},
   "source": [
    "### Matrice de corrélation\n",
    "\n",
    "Une matrice de corrélation est utilisée pour évaluer la dépendence entre plusieurs variables en même temps. Le résultat est une table contenant les coefficients de corrélation entre chaque variable et les autres.\n",
    "\n",
    "Une matrice des corrélations permet de détecter rapidement certaines liaisons. C’est donc en amont des études qu’on l’utilise. \n",
    "\n",
    "\n",
    "#### Correlation de Pearson :"
   ]
  },
  {
   "cell_type": "code",
   "execution_count": 30,
   "id": "865aa1d4",
   "metadata": {
    "execution": {
     "iopub.execute_input": "2022-10-24T21:31:36.655388Z",
     "iopub.status.busy": "2022-10-24T21:31:36.654953Z",
     "iopub.status.idle": "2022-10-24T21:31:36.667564Z",
     "shell.execute_reply": "2022-10-24T21:31:36.666326Z",
     "shell.execute_reply.started": "2022-10-24T21:31:36.655347Z"
    }
   },
   "outputs": [
    {
     "name": "stdout",
     "output_type": "stream",
     "text": [
      "[[-1.12326806 -1.67051762 -0.04225355]\n",
      " [-0.91513658 -0.42256006  0.5285032 ]\n",
      " [ 0.64492151  0.22817165 -0.04521916]]\n",
      "\n",
      "\n",
      "[[ 1.          0.7783262  -0.55743179]\n",
      " [ 0.7783262   1.         -0.95512751]\n",
      " [-0.55743179 -0.95512751  1.        ]]\n"
     ]
    }
   ],
   "source": [
    "B = np.random.randn(3, 3) # nombres aléatoires 3x3\n",
    "print(B)\n",
    "print(\"\\n\")\n",
    "# retourne la matrice de corrélation de B\n",
    "print(np.corrcoef(B))"
   ]
  },
  {
   "cell_type": "code",
   "execution_count": 31,
   "id": "3c9a2b1b",
   "metadata": {
    "execution": {
     "iopub.execute_input": "2022-10-24T21:31:36.671128Z",
     "iopub.status.busy": "2022-10-24T21:31:36.669902Z",
     "iopub.status.idle": "2022-10-24T21:31:36.679977Z",
     "shell.execute_reply": "2022-10-24T21:31:36.678114Z",
     "shell.execute_reply.started": "2022-10-24T21:31:36.671081Z"
    }
   },
   "outputs": [
    {
     "name": "stdout",
     "output_type": "stream",
     "text": [
      "[[1.         0.82795145]\n",
      " [0.82795145 1.        ]]\n"
     ]
    }
   ],
   "source": [
    "# retourne la matrice de corrélation entre les lignes 0 et 1 de B\n",
    "print(np.corrcoef(B[:,0], B[:, 1]))"
   ]
  },
  {
   "cell_type": "markdown",
   "id": "8382ddb8",
   "metadata": {},
   "source": [
    "#### np.unique() :  retrourne les éléments constitutifs d'un array"
   ]
  },
  {
   "cell_type": "code",
   "execution_count": 32,
   "id": "1bc009e9",
   "metadata": {
    "execution": {
     "iopub.execute_input": "2022-10-24T21:31:36.682768Z",
     "iopub.status.busy": "2022-10-24T21:31:36.682267Z",
     "iopub.status.idle": "2022-10-24T21:31:36.692022Z",
     "shell.execute_reply": "2022-10-24T21:31:36.690999Z",
     "shell.execute_reply.started": "2022-10-24T21:31:36.682737Z"
    }
   },
   "outputs": [
    {
     "data": {
      "text/plain": [
       "array([[ 9,  1,  2, 10,  6],\n",
       "       [ 2,  1,  9,  3,  1],\n",
       "       [11,  7,  3,  8,  2],\n",
       "       [10,  5,  7,  2,  5],\n",
       "       [ 0,  9,  6,  0,  4]])"
      ]
     },
     "execution_count": 32,
     "metadata": {},
     "output_type": "execute_result"
    }
   ],
   "source": [
    "A = np.random.randint(0, 12, [5,5])\n",
    "A"
   ]
  },
  {
   "cell_type": "code",
   "execution_count": 33,
   "id": "b0cae3ed",
   "metadata": {
    "execution": {
     "iopub.execute_input": "2022-10-24T21:31:36.694182Z",
     "iopub.status.busy": "2022-10-24T21:31:36.693349Z",
     "iopub.status.idle": "2022-10-24T21:31:36.701483Z",
     "shell.execute_reply": "2022-10-24T21:31:36.700647Z",
     "shell.execute_reply.started": "2022-10-24T21:31:36.694150Z"
    }
   },
   "outputs": [
    {
     "data": {
      "text/plain": [
       "array([ 0,  1,  2,  3,  4,  5,  6,  7,  8,  9, 10, 11])"
      ]
     },
     "execution_count": 33,
     "metadata": {},
     "output_type": "execute_result"
    }
   ],
   "source": [
    "np.unique(A)"
   ]
  },
  {
   "cell_type": "code",
   "execution_count": 34,
   "id": "758d773f",
   "metadata": {
    "execution": {
     "iopub.execute_input": "2022-10-24T21:31:36.703126Z",
     "iopub.status.busy": "2022-10-24T21:31:36.702640Z",
     "iopub.status.idle": "2022-10-24T21:31:36.713004Z",
     "shell.execute_reply": "2022-10-24T21:31:36.712252Z",
     "shell.execute_reply.started": "2022-10-24T21:31:36.703097Z"
    }
   },
   "outputs": [
    {
     "name": "stdout",
     "output_type": "stream",
     "text": [
      "valeur 4 apparait 1\n",
      "valeur 8 apparait 1\n",
      "valeur 11 apparait 1\n",
      "valeur 0 apparait 2\n",
      "valeur 3 apparait 2\n",
      "valeur 5 apparait 2\n",
      "valeur 6 apparait 2\n",
      "valeur 7 apparait 2\n",
      "valeur 10 apparait 2\n",
      "valeur 1 apparait 3\n",
      "valeur 9 apparait 3\n",
      "valeur 2 apparait 4\n"
     ]
    }
   ],
   "source": [
    "values, counts = np.unique(A, return_counts=True)\n",
    "\n",
    "for i, j in zip(values[counts.argsort()], counts[counts.argsort()]):\n",
    "    print(f'valeur {i} apparait {j}')"
   ]
  },
  {
   "cell_type": "markdown",
   "id": "2b7c1b35",
   "metadata": {},
   "source": [
    "### Calculs statistiques en présence de données manquates (NaN)\n",
    "\n",
    "Le NaN est une constante qui indique que la valeur donnée n’est pas légale - Not a Number.\n",
    "\n",
    "Notez que NaN et NULL sont deux choses différentes. La valeur NULL indique quelque chose qui n’existe pas et qui est vide.\n",
    "\n",
    "La fonction **np.isnan()** cherche le NaN dans la matrice et renvoie une matrice de booléen"
   ]
  },
  {
   "cell_type": "code",
   "execution_count": 35,
   "id": "f60ee1ac",
   "metadata": {
    "execution": {
     "iopub.execute_input": "2022-10-24T21:31:36.714689Z",
     "iopub.status.busy": "2022-10-24T21:31:36.714378Z",
     "iopub.status.idle": "2022-10-24T21:31:36.726445Z",
     "shell.execute_reply": "2022-10-24T21:31:36.724886Z",
     "shell.execute_reply.started": "2022-10-24T21:31:36.714661Z"
    }
   },
   "outputs": [
    {
     "name": "stdout",
     "output_type": "stream",
     "text": [
      "[[False False  True False False]\n",
      " [False False False False False]\n",
      " [False False False False False]\n",
      " [False False False False False]\n",
      " [False False False False False]]\n",
      "ratio NaN/size: 0.04\n",
      "\n",
      "\n",
      "moyenne sans NaN: 0.023300467538922898\n"
     ]
    }
   ],
   "source": [
    "A = np.random.randn(5, 5)\n",
    "A[0, 2] = np.nan # insere un NaN dans la matrice A\n",
    "print(np.isnan(A))\n",
    " \n",
    "print('ratio NaN/size:', (np.isnan(A).sum()/A.size)) # calcule la proportion de NaN dans A\n",
    "print(\"\\n\")\n",
    " \n",
    "print('moyenne sans NaN:', np.nanmean(A)) # calcule la moyenne de A en ignorant les NaN"
   ]
  },
  {
   "cell_type": "markdown",
   "id": "f32ad5c0",
   "metadata": {},
   "source": [
    "## Exercice et Solution\n",
    "\n",
    "Standardisez la matrice suivante, c'est a dire effectuez le calcul suivant :\n",
    "$A = \\frac{A - mean(A_{colonne})}{std(A_{colonne})}$"
   ]
  },
  {
   "cell_type": "code",
   "execution_count": 36,
   "id": "f71440d0",
   "metadata": {
    "execution": {
     "iopub.execute_input": "2022-10-24T21:31:36.728036Z",
     "iopub.status.busy": "2022-10-24T21:31:36.727705Z",
     "iopub.status.idle": "2022-10-24T21:31:36.743662Z",
     "shell.execute_reply": "2022-10-24T21:31:36.742475Z",
     "shell.execute_reply.started": "2022-10-24T21:31:36.728008Z"
    }
   },
   "outputs": [
    {
     "data": {
      "text/plain": [
       "array([[44, 47, 64, 67, 67],\n",
       "       [ 9, 83, 21, 36, 87],\n",
       "       [70, 88, 88, 12, 58],\n",
       "       [65, 39, 87, 46, 88],\n",
       "       [81, 37, 25, 77, 72],\n",
       "       [ 9, 20, 80, 69, 79],\n",
       "       [47, 64, 82, 99, 88],\n",
       "       [49, 29, 19, 19, 14],\n",
       "       [39, 32, 65,  9, 57],\n",
       "       [32, 31, 74, 23, 35]])"
      ]
     },
     "execution_count": 36,
     "metadata": {},
     "output_type": "execute_result"
    }
   ],
   "source": [
    "np.random.seed(0)\n",
    "A = np.random.randint(0, 100, [10, 5])\n",
    "A"
   ]
  },
  {
   "cell_type": "code",
   "execution_count": 37,
   "id": "580cb365",
   "metadata": {
    "execution": {
     "iopub.execute_input": "2022-10-24T21:31:36.748406Z",
     "iopub.status.busy": "2022-10-24T21:31:36.747569Z",
     "iopub.status.idle": "2022-10-24T21:31:36.755994Z",
     "shell.execute_reply": "2022-10-24T21:31:36.755144Z",
     "shell.execute_reply.started": "2022-10-24T21:31:36.748348Z"
    }
   },
   "outputs": [
    {
     "data": {
      "text/plain": [
       "array([[-0.02206157,  0.        ,  0.13173823,  0.72539252,  0.10755798],\n",
       "       [-1.56637126,  1.61579632, -1.48676006, -0.33034307,  0.96802178],\n",
       "       [ 1.12513992,  1.84021247,  1.03508612, -1.14768676, -0.27965074],\n",
       "       [ 0.90452425, -0.35906585,  0.99744662,  0.0102168 ,  1.01104497],\n",
       "       [ 1.6104944 , -0.44883231, -1.33620208,  1.0659524 ,  0.32267393],\n",
       "       [-1.56637126, -1.21184724,  0.73397016,  0.7935045 ,  0.62383626],\n",
       "       [ 0.11030784,  0.76301493,  0.80924915,  1.81518411,  1.01104497],\n",
       "       [ 0.1985541 , -0.80789816, -1.56203905, -0.90929485, -2.17267111],\n",
       "       [-0.24267724, -0.67324847,  0.16937773, -1.24985473, -0.32267393],\n",
       "       [-0.55153918, -0.7181317 ,  0.50813319, -0.77307091, -1.26918412]])"
      ]
     },
     "execution_count": 37,
     "metadata": {},
     "output_type": "execute_result"
    }
   ],
   "source": [
    "# SOLUTION\n",
    "D = (A - A.mean(axis=0)) / A.std(axis=0)\n",
    "D"
   ]
  },
  {
   "cell_type": "code",
   "execution_count": 38,
   "id": "0d878124",
   "metadata": {
    "execution": {
     "iopub.execute_input": "2022-10-24T21:31:36.757748Z",
     "iopub.status.busy": "2022-10-24T21:31:36.757249Z",
     "iopub.status.idle": "2022-10-24T21:31:36.768616Z",
     "shell.execute_reply": "2022-10-24T21:31:36.767523Z",
     "shell.execute_reply.started": "2022-10-24T21:31:36.757717Z"
    }
   },
   "outputs": [
    {
     "name": "stdout",
     "output_type": "stream",
     "text": [
      "[-2.22044605e-17 -4.44089210e-17  0.00000000e+00 -1.22124533e-16\n",
      " -4.44089210e-17]\n",
      "[1. 1. 1. 1. 1.]\n"
     ]
    }
   ],
   "source": [
    "print(D.mean(axis=0)) # les moyennes sont toutes = 0\n",
    "print(D.std(axis=0)) # les std sont tous = 1 "
   ]
  },
  {
   "cell_type": "markdown",
   "id": "1519dc97",
   "metadata": {},
   "source": [
    "### Exemple : Prédiction du prix du loyer en fonction de la surface d'une chambre étudiante\n",
    "Essayons d'avoir grâce à Numpy une première intuition du Machine Learning en simulant un problème de régression linéaire univariée.\n",
    "\n",
    "L'idée principale derrière une régression logistique est de pouvoir prédire (estimer) une variable $y$ dite \"explicative\" (ou variable cible) à l'aide d'une seule variable (d'où le terme \"univariée\") $x$ appelée variable explicative. Le lien entre ces deux variables est modélisé par une fonction affine, la formule est donc de la forme :\n",
    "$$\n",
    "y \\approx \\beta_1x + \\beta_0\n",
    "$$\n",
    "\n",
    "Un vecteur $\\beta$ sera utilisé, dans lequel $\\beta_0$ est l'ordonnée à l'origine (on l'appelle aussi le biais) et $\\beta_1$ à la pente de la droite que l'on cherche à ajuster à nos données.\n",
    "\n",
    "Mais comment le modèle estime les paramètres $\\beta_0$ et $\\beta_1$ qui prédisent le mieux (autrement dit, avec le moins d'erreur possible) la variable $y$ à partir de la variable explicative $x$ ?\n",
    "\n",
    "Je vous invite à consulter [cette vidéo](https://www.youtube.com/watch?v=nk2CQITm_eo) de l'excellent youtuber et stasticien [Josh Starmer](https://www.youtube.com/channel/UCtYLUTtgS3k1Fg4y5tAhLbw) mais en attendant, penchons-nous sur ce que représente réellement le vecteur beta.\n",
    "\n",
    "Comme on cherche la droite qui s'ajuste le mieux à nos données, on peut en effet considérer ce vecteur comme une succession de rotations de cette droite.\n",
    "\n",
    "A chaque tentative d'ajustements de la droite (ou itérations), nous devons alors mesurer la distance entre cette droite et nos données, élever chaque distance au carré et ensuite les sommer. Enfin, pour déterminer l'erreur moyenne entre chaque point de nos données et la droite que nous cherchons à faire passer, il suffit de diviser cette somme par le nombre d'entrées utilisées pour ce calcul dans notre jeu de données, ce qui constitue une métrique pour quantifier l'erreur de prédiction obtenue par un modèle de régression, appelée \"erreur quadratique moyenne\" (mean squared error = MSE). Tout cela se résume par la formule suivante :\n",
    "$$\n",
    "MSE = \\frac{1}{n}\\sum_{i=1}^{n}(\\hat{y_i}-y_i)^2\n",
    "$$\n",
    "où $\\hat{y}$ est la prédiction de la variable $y$ par produit matricielle entre une matrice $X$ contenant la variable explicative et le vecteur de régression $\\beta*$ contenant les paramètres $\\beta_0$ et $\\beta_1$ optimaux estimés.\n",
    "\n",
    "Ainsi, nous allons pouvoir, pour chaque rotation de la droite que nous cherchons à ajuster à nos données, calculer l'erreur et ainsi déterminer les paramètres qui minimise cette erreur."
   ]
  },
  {
   "cell_type": "code",
   "execution_count": 39,
   "id": "18189911",
   "metadata": {
    "execution": {
     "iopub.execute_input": "2022-10-24T21:31:36.770981Z",
     "iopub.status.busy": "2022-10-24T21:31:36.770288Z",
     "iopub.status.idle": "2022-10-24T21:31:36.781639Z",
     "shell.execute_reply": "2022-10-24T21:31:36.780499Z",
     "shell.execute_reply.started": "2022-10-24T21:31:36.770948Z"
    }
   },
   "outputs": [],
   "source": [
    "# Création d'une matrice X contenant la variable explicative : la surface de la chambre en m2\n",
    "X = np.array([18,\n",
    "              20,\n",
    "              40,\n",
    "              47])\n",
    "\n",
    "# Création d'un vecteur y contenant la variable cible : le prix du loyer en euros\n",
    "y = np.array([250,\n",
    "              302,\n",
    "              538,\n",
    "              607])\n"
   ]
  },
  {
   "cell_type": "code",
   "execution_count": 40,
   "id": "7fa95f63",
   "metadata": {
    "execution": {
     "iopub.execute_input": "2022-10-24T21:31:36.783559Z",
     "iopub.status.busy": "2022-10-24T21:31:36.782901Z",
     "iopub.status.idle": "2022-10-24T21:31:37.008497Z",
     "shell.execute_reply": "2022-10-24T21:31:37.007150Z",
     "shell.execute_reply.started": "2022-10-24T21:31:36.783526Z"
    }
   },
   "outputs": [
    {
     "data": {
      "image/png": "[encoded data removed]",
      "text/plain": [
       "<Figure size 432x288 with 1 Axes>"
      ]
     },
     "metadata": {
      "needs_background": "light"
     },
     "output_type": "display_data"
    }
   ],
   "source": [
    "# Affichage d'un nuage de points permettant de visualiser nos données\n",
    "import matplotlib.pyplot as plt\n",
    "plt.scatter(X, y)\n",
    "plt.show()"
   ]
  },
  {
   "cell_type": "code",
   "execution_count": 41,
   "id": "4fae3778",
   "metadata": {
    "execution": {
     "iopub.execute_input": "2022-10-24T21:31:37.011171Z",
     "iopub.status.busy": "2022-10-24T21:31:37.010393Z",
     "iopub.status.idle": "2022-10-24T21:31:37.018233Z",
     "shell.execute_reply": "2022-10-24T21:31:37.017204Z",
     "shell.execute_reply.started": "2022-10-24T21:31:37.011123Z"
    }
   },
   "outputs": [],
   "source": [
    "# Définition d'une fonction qui retourne l'erreur quadratique moyenne associée à une matrice X, un vecteur beta et un vecteur y\n",
    "def mean_squared_error(X, beta, y):\n",
    "    # Calcul de ^y\n",
    "    y_hat = X.dot(beta)\n",
    "    \n",
    "    # Calcul de l'erreur quadratique (î_i - y_i)**2\n",
    "    mse = (y_hat - y)**2\n",
    "    \n",
    "    # On fait la moyenne de l'erreur pour obtenir l'erreur quadratique moyenne\n",
    "    mse = mse.mean()\n",
    "    \n",
    "    return mse"
   ]
  },
  {
   "cell_type": "code",
   "execution_count": 42,
   "id": "f5b294b4",
   "metadata": {
    "execution": {
     "iopub.execute_input": "2022-10-24T21:31:37.019963Z",
     "iopub.status.busy": "2022-10-24T21:31:37.019502Z",
     "iopub.status.idle": "2022-10-24T21:31:48.248086Z",
     "shell.execute_reply": "2022-10-24T21:31:48.246554Z",
     "shell.execute_reply.started": "2022-10-24T21:31:37.019922Z"
    }
   },
   "outputs": [],
   "source": [
    "# Initialisation d'une liste vide qui va contenir plus tard les beta à tester\n",
    "errors = []\n",
    "\n",
    "# Création du vecteur beta\n",
    "liste_beta = np.linspace(start = 0.001, stop = 50, num = 1000000)\n",
    "\n",
    "# Ajout de l'erreur quadratique moyenne pour chaque valeur du vecteur beta dans une liste\n",
    "for beta in liste_beta:\n",
    "    errors.append(mean_squared_error(X, beta, y))"
   ]
  },
  {
   "cell_type": "code",
   "execution_count": 43,
   "id": "8ee5fff4",
   "metadata": {
    "execution": {
     "iopub.execute_input": "2022-10-24T21:31:48.250062Z",
     "iopub.status.busy": "2022-10-24T21:31:48.249505Z",
     "iopub.status.idle": "2022-10-24T21:31:48.316044Z",
     "shell.execute_reply": "2022-10-24T21:31:48.314587Z",
     "shell.execute_reply.started": "2022-10-24T21:31:48.250023Z"
    }
   },
   "outputs": [
    {
     "name": "stdout",
     "output_type": "stream",
     "text": [
      "Le beta optimal est : 13.366196056196056\n"
     ]
    }
   ],
   "source": [
    "# Conversion de la liste contenant les MSE en un array numpy pour pouvoir utiliser la méthode argmin()\n",
    "mse_array = np.array(errors)\n",
    "\n",
    "# Détermination du beta* qui minimise l'erreur quadratique moyenne à l'aide de la méthode .argmin()\n",
    "indice_betaOptimal = mse_array.argmin()\n",
    "\n",
    "beta_optimal = liste_beta[indice_betaOptimal] # l'indice de la plus petite erreur correspond à l'indice du beta optimal\n",
    "\n",
    "print(\"Le beta optimal est :\", beta_optimal)"
   ]
  },
  {
   "cell_type": "code",
   "execution_count": 44,
   "id": "61acb811",
   "metadata": {
    "execution": {
     "iopub.execute_input": "2022-10-24T21:31:48.318818Z",
     "iopub.status.busy": "2022-10-24T21:31:48.318220Z",
     "iopub.status.idle": "2022-10-24T21:31:48.334214Z",
     "shell.execute_reply": "2022-10-24T21:31:48.332685Z",
     "shell.execute_reply.started": "2022-10-24T21:31:48.318770Z"
    }
   },
   "outputs": [
    {
     "name": "stdout",
     "output_type": "stream",
     "text": [
      "Les prix prédits par ce beta optimal sont : [240.59152901 267.32392112 534.64784225 628.21121464]\n",
      "L'écart moyen entre les prédictions et les vraies valeurs est de 17.16 euros\n"
     ]
    }
   ],
   "source": [
    "# Calcul des prix prédits par ce beta optimal\n",
    "y_hat = X.dot(beta_optimal)\n",
    "print(\"Les prix prédits par ce beta optimal sont :\", y_hat)\n",
    "\n",
    "# Comparaison des prix prédits aux vrais prix des appartements\n",
    "ecart_moyen = np.abs(y_hat - y).mean()\n",
    "print(\"L'écart moyen entre les prédictions et les vraies valeurs est de {} euros\".format(round(ecart_moyen, 2)))"
   ]
  },
  {
   "cell_type": "code",
   "execution_count": 45,
   "id": "92d352b4",
   "metadata": {
    "execution": {
     "iopub.execute_input": "2022-10-24T21:31:48.337370Z",
     "iopub.status.busy": "2022-10-24T21:31:48.336974Z",
     "iopub.status.idle": "2022-10-24T21:31:48.564189Z",
     "shell.execute_reply": "2022-10-24T21:31:48.563293Z",
     "shell.execute_reply.started": "2022-10-24T21:31:48.337336Z"
    }
   },
   "outputs": [
    {
     "data": {
      "image/png": "[encoded data removed]",
      "text/plain": [
       "<Figure size 432x288 with 1 Axes>"
      ]
     },
     "metadata": {
      "needs_background": "light"
     },
     "output_type": "display_data"
    }
   ],
   "source": [
    "plt.scatter(X, y)\n",
    "plt.plot(X, y_hat, \"r\")\n",
    "plt.show()"
   ]
  },
  {
   "cell_type": "code",
   "execution_count": null,
   "id": "2a570158",
   "metadata": {},
   "outputs": [],
   "source": []
  }
 ],
 "metadata": {
  "kernelspec": {
   "display_name": "Python 3.8.8 ('base')",
   "language": "python",
   "name": "python3"
  },
  "language_info": {
   "codemirror_mode": {
    "name": "ipython",
    "version": 3
   },
   "file_extension": ".py",
   "mimetype": "text/x-python",
   "name": "python",
   "nbconvert_exporter": "python",
   "pygments_lexer": "ipython3",
   "version": "3.8.8"
  },
  "vscode": {
   "interpreter": {
    "hash": "ad2bdc8ecc057115af97d19610ffacc2b4e99fae6737bb82f5d7fb13d2f2c186"
   }
  }
 },
 "nbformat": 4,
 "nbformat_minor": 5
}
